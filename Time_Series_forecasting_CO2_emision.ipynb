{
  "nbformat": 4,
  "nbformat_minor": 0,
  "metadata": {
    "colab": {
      "name": "Fall 2021 PUI project - MV notebook 2",
      "provenance": [],
      "collapsed_sections": []
    },
    "kernelspec": {
      "name": "python3",
      "display_name": "Python 3"
    },
    "language_info": {
      "name": "python"
    }
  },
  "cells": [
    {
      "cell_type": "code",
      "metadata": {
        "id": "uuiFOsEpOLN2"
      },
      "source": [
        "import pandas as pd\n",
        "import numpy as np"
      ],
      "execution_count": null,
      "outputs": []
    },
    {
      "cell_type": "code",
      "metadata": {
        "id": "qSJSlU-X6YkU"
      },
      "source": [
        "from google.colab import drive"
      ],
      "execution_count": null,
      "outputs": []
    },
    {
      "cell_type": "code",
      "metadata": {
        "colab": {
          "base_uri": "https://localhost:8080/"
        },
        "id": "iCprX1lJ6aTA",
        "outputId": "88e079e9-abf7-4439-9901-4e20fa080373"
      },
      "source": [
        "drive.mount('/content/drive')"
      ],
      "execution_count": null,
      "outputs": [
        {
          "output_type": "stream",
          "name": "stdout",
          "text": [
            "Mounted at /content/drive\n"
          ]
        }
      ]
    },
    {
      "cell_type": "code",
      "metadata": {
        "id": "xXqV8JTf6wt0",
        "colab": {
          "base_uri": "https://localhost:8080/"
        },
        "outputId": "8cb7c227-505a-4bf2-8f10-27b058433c75"
      },
      "source": [
        "!ls drive/MyDrive/PUI_project_Fall_2021/All_Data/EPA_Download/"
      ],
      "execution_count": null,
      "outputs": [
        {
          "output_type": "stream",
          "name": "stdout",
          "text": [
            "Data_Caveats.csv\n",
            "Data_Dictionary.csv\n",
            "Data_Dictionary.gsheet\n",
            "emission_filtered_EPA_quarterly.csv\n",
            "Emissions_Filtered_EPA_Air_Markets_Program_Data.csv\n",
            "Emissions_Filtered_EPA_cleaned.csv\n",
            "epa_emission_monthly.csv\n"
          ]
        }
      ]
    },
    {
      "cell_type": "code",
      "metadata": {
        "colab": {
          "base_uri": "https://localhost:8080/"
        },
        "id": "Rv7tCaEe4qB0",
        "outputId": "04caa765-6661-4392-a67a-1ab49bc3c29d"
      },
      "source": [
        "emissions_monthly = pd.read_csv(\"drive/MyDrive/PUI_project_Fall_2021/All_Data/EPA_Download/epa_emission_monthly.csv\",index_col=None)\n",
        "\n",
        "columns = emissions_monthly.columns\n",
        "columns = [x.strip() for x in columns]\n",
        "columns"
      ],
      "execution_count": null,
      "outputs": [
        {
          "output_type": "execute_result",
          "data": {
            "text/plain": [
              "['State',\n",
              " 'Facility Name',\n",
              " 'Owner Name',\n",
              " 'Facility ID (ORISPL)',\n",
              " 'Month',\n",
              " 'Year',\n",
              " 'SO2 (tons)',\n",
              " 'NOx (tons)',\n",
              " 'CO2 (short tons)',\n",
              " 'Heat Input (MMBtu)',\n",
              " 'Gross Load (MW-h)']"
            ]
          },
          "metadata": {},
          "execution_count": 5
        }
      ]
    },
    {
      "cell_type": "code",
      "source": [
        "emissions_monthly.set_axis(columns,axis=1,inplace=True)"
      ],
      "metadata": {
        "id": "zkk32bexowGK"
      },
      "execution_count": null,
      "outputs": []
    },
    {
      "cell_type": "code",
      "metadata": {
        "id": "DxCeFF9JCOSN",
        "colab": {
          "base_uri": "https://localhost:8080/"
        },
        "outputId": "edf4c344-dc40-4433-d91d-e8a06980304c"
      },
      "source": [
        "emissions_monthly.info()"
      ],
      "execution_count": null,
      "outputs": [
        {
          "output_type": "stream",
          "name": "stdout",
          "text": [
            "<class 'pandas.core.frame.DataFrame'>\n",
            "RangeIndex: 240327 entries, 0 to 240326\n",
            "Data columns (total 11 columns):\n",
            " #   Column                Non-Null Count   Dtype  \n",
            "---  ------                --------------   -----  \n",
            " 0   State                 240327 non-null  object \n",
            " 1   Facility Name         240327 non-null  object \n",
            " 2   Owner Name            240327 non-null  object \n",
            " 3   Facility ID (ORISPL)  240327 non-null  int64  \n",
            " 4   Month                 240327 non-null  int64  \n",
            " 5   Year                  240327 non-null  int64  \n",
            " 6   SO2 (tons)            205780 non-null  float64\n",
            " 7   NOx (tons)            209839 non-null  float64\n",
            " 8   CO2 (short tons)      201274 non-null  float64\n",
            " 9   Heat Input (MMBtu)    210107 non-null  float64\n",
            " 10  Gross Load (MW-h)     203330 non-null  float64\n",
            "dtypes: float64(5), int64(3), object(3)\n",
            "memory usage: 20.2+ MB\n"
          ]
        }
      ]
    },
    {
      "cell_type": "code",
      "metadata": {
        "colab": {
          "base_uri": "https://localhost:8080/",
          "height": 424
        },
        "id": "mP1KYMPbn4Yr",
        "outputId": "2dce686a-f724-4ebc-c012-3386c6fa35f2"
      },
      "source": [
        "emissions_monthly['period'] = emissions_monthly['Year'].astype(str) + \"-\"+ emissions_monthly['Month'].astype(str)  \n",
        "emissions_monthly.period = pd.to_datetime(emissions_monthly.period)\n",
        "emissions_monthly"
      ],
      "execution_count": null,
      "outputs": [
        {
          "output_type": "execute_result",
          "data": {
            "text/html": [
              "<div>\n",
              "<style scoped>\n",
              "    .dataframe tbody tr th:only-of-type {\n",
              "        vertical-align: middle;\n",
              "    }\n",
              "\n",
              "    .dataframe tbody tr th {\n",
              "        vertical-align: top;\n",
              "    }\n",
              "\n",
              "    .dataframe thead th {\n",
              "        text-align: right;\n",
              "    }\n",
              "</style>\n",
              "<table border=\"1\" class=\"dataframe\">\n",
              "  <thead>\n",
              "    <tr style=\"text-align: right;\">\n",
              "      <th></th>\n",
              "      <th>State</th>\n",
              "      <th>Facility Name</th>\n",
              "      <th>Owner Name</th>\n",
              "      <th>Facility ID (ORISPL)</th>\n",
              "      <th>Month</th>\n",
              "      <th>Year</th>\n",
              "      <th>SO2 (tons)</th>\n",
              "      <th>NOx (tons)</th>\n",
              "      <th>CO2 (short tons)</th>\n",
              "      <th>Heat Input (MMBtu)</th>\n",
              "      <th>Gross Load (MW-h)</th>\n",
              "      <th>period</th>\n",
              "    </tr>\n",
              "  </thead>\n",
              "  <tbody>\n",
              "    <tr>\n",
              "      <th>0</th>\n",
              "      <td>AL</td>\n",
              "      <td>AMEA Sylacauga Plant</td>\n",
              "      <td>Alabama Municipal Electric Authority</td>\n",
              "      <td>56018</td>\n",
              "      <td>1</td>\n",
              "      <td>2005</td>\n",
              "      <td>0.000</td>\n",
              "      <td>0.044</td>\n",
              "      <td>67.8</td>\n",
              "      <td>1148.5</td>\n",
              "      <td>102.0</td>\n",
              "      <td>2005-01-01</td>\n",
              "    </tr>\n",
              "    <tr>\n",
              "      <th>1</th>\n",
              "      <td>AL</td>\n",
              "      <td>AMEA Sylacauga Plant</td>\n",
              "      <td>Alabama Municipal Electric Authority</td>\n",
              "      <td>56018</td>\n",
              "      <td>2</td>\n",
              "      <td>2005</td>\n",
              "      <td>NaN</td>\n",
              "      <td>NaN</td>\n",
              "      <td>NaN</td>\n",
              "      <td>NaN</td>\n",
              "      <td>NaN</td>\n",
              "      <td>2005-02-01</td>\n",
              "    </tr>\n",
              "    <tr>\n",
              "      <th>2</th>\n",
              "      <td>AL</td>\n",
              "      <td>AMEA Sylacauga Plant</td>\n",
              "      <td>Alabama Municipal Electric Authority</td>\n",
              "      <td>56018</td>\n",
              "      <td>3</td>\n",
              "      <td>2005</td>\n",
              "      <td>0.001</td>\n",
              "      <td>0.065</td>\n",
              "      <td>101.6</td>\n",
              "      <td>1722.7</td>\n",
              "      <td>153.0</td>\n",
              "      <td>2005-03-01</td>\n",
              "    </tr>\n",
              "    <tr>\n",
              "      <th>3</th>\n",
              "      <td>AL</td>\n",
              "      <td>AMEA Sylacauga Plant</td>\n",
              "      <td>Alabama Municipal Electric Authority</td>\n",
              "      <td>56018</td>\n",
              "      <td>4</td>\n",
              "      <td>2005</td>\n",
              "      <td>NaN</td>\n",
              "      <td>NaN</td>\n",
              "      <td>NaN</td>\n",
              "      <td>NaN</td>\n",
              "      <td>NaN</td>\n",
              "      <td>2005-04-01</td>\n",
              "    </tr>\n",
              "    <tr>\n",
              "      <th>4</th>\n",
              "      <td>AL</td>\n",
              "      <td>AMEA Sylacauga Plant</td>\n",
              "      <td>Alabama Municipal Electric Authority</td>\n",
              "      <td>56018</td>\n",
              "      <td>5</td>\n",
              "      <td>2005</td>\n",
              "      <td>0.001</td>\n",
              "      <td>0.161</td>\n",
              "      <td>219.0</td>\n",
              "      <td>3710.9</td>\n",
              "      <td>378.0</td>\n",
              "      <td>2005-05-01</td>\n",
              "    </tr>\n",
              "    <tr>\n",
              "      <th>...</th>\n",
              "      <td>...</td>\n",
              "      <td>...</td>\n",
              "      <td>...</td>\n",
              "      <td>...</td>\n",
              "      <td>...</td>\n",
              "      <td>...</td>\n",
              "      <td>...</td>\n",
              "      <td>...</td>\n",
              "      <td>...</td>\n",
              "      <td>...</td>\n",
              "      <td>...</td>\n",
              "      <td>...</td>\n",
              "    </tr>\n",
              "    <tr>\n",
              "      <th>240322</th>\n",
              "      <td>WY</td>\n",
              "      <td>Wyodak</td>\n",
              "      <td>Black Hills Corporation, Pacificorp Energy Gen...</td>\n",
              "      <td>6101</td>\n",
              "      <td>8</td>\n",
              "      <td>2016</td>\n",
              "      <td>233.875</td>\n",
              "      <td>347.809</td>\n",
              "      <td>321484.0</td>\n",
              "      <td>3065249.8</td>\n",
              "      <td>279246.0</td>\n",
              "      <td>2016-08-01</td>\n",
              "    </tr>\n",
              "    <tr>\n",
              "      <th>240323</th>\n",
              "      <td>WY</td>\n",
              "      <td>Wyodak</td>\n",
              "      <td>Black Hills Corporation, Pacificorp Energy Gen...</td>\n",
              "      <td>6101</td>\n",
              "      <td>9</td>\n",
              "      <td>2016</td>\n",
              "      <td>228.710</td>\n",
              "      <td>334.644</td>\n",
              "      <td>309080.6</td>\n",
              "      <td>2946991.1</td>\n",
              "      <td>267691.0</td>\n",
              "      <td>2016-09-01</td>\n",
              "    </tr>\n",
              "    <tr>\n",
              "      <th>240324</th>\n",
              "      <td>WY</td>\n",
              "      <td>Wyodak</td>\n",
              "      <td>Black Hills Corporation, Pacificorp Energy Gen...</td>\n",
              "      <td>6101</td>\n",
              "      <td>10</td>\n",
              "      <td>2016</td>\n",
              "      <td>211.495</td>\n",
              "      <td>314.882</td>\n",
              "      <td>290879.0</td>\n",
              "      <td>2773451.5</td>\n",
              "      <td>253110.0</td>\n",
              "      <td>2016-10-01</td>\n",
              "    </tr>\n",
              "    <tr>\n",
              "      <th>240325</th>\n",
              "      <td>WY</td>\n",
              "      <td>Wyodak</td>\n",
              "      <td>Black Hills Corporation, Pacificorp Energy Gen...</td>\n",
              "      <td>6101</td>\n",
              "      <td>11</td>\n",
              "      <td>2016</td>\n",
              "      <td>207.293</td>\n",
              "      <td>306.374</td>\n",
              "      <td>283543.1</td>\n",
              "      <td>2703507.4</td>\n",
              "      <td>249476.0</td>\n",
              "      <td>2016-11-01</td>\n",
              "    </tr>\n",
              "    <tr>\n",
              "      <th>240326</th>\n",
              "      <td>WY</td>\n",
              "      <td>Wyodak</td>\n",
              "      <td>Black Hills Corporation, Pacificorp Energy Gen...</td>\n",
              "      <td>6101</td>\n",
              "      <td>12</td>\n",
              "      <td>2016</td>\n",
              "      <td>207.199</td>\n",
              "      <td>304.010</td>\n",
              "      <td>282007.9</td>\n",
              "      <td>2688870.4</td>\n",
              "      <td>252072.0</td>\n",
              "      <td>2016-12-01</td>\n",
              "    </tr>\n",
              "  </tbody>\n",
              "</table>\n",
              "<p>240327 rows × 12 columns</p>\n",
              "</div>"
            ],
            "text/plain": [
              "       State         Facility Name  ... Gross Load (MW-h)     period\n",
              "0         AL  AMEA Sylacauga Plant  ...             102.0 2005-01-01\n",
              "1         AL  AMEA Sylacauga Plant  ...               NaN 2005-02-01\n",
              "2         AL  AMEA Sylacauga Plant  ...             153.0 2005-03-01\n",
              "3         AL  AMEA Sylacauga Plant  ...               NaN 2005-04-01\n",
              "4         AL  AMEA Sylacauga Plant  ...             378.0 2005-05-01\n",
              "...      ...                   ...  ...               ...        ...\n",
              "240322    WY                Wyodak  ...          279246.0 2016-08-01\n",
              "240323    WY                Wyodak  ...          267691.0 2016-09-01\n",
              "240324    WY                Wyodak  ...          253110.0 2016-10-01\n",
              "240325    WY                Wyodak  ...          249476.0 2016-11-01\n",
              "240326    WY                Wyodak  ...          252072.0 2016-12-01\n",
              "\n",
              "[240327 rows x 12 columns]"
            ]
          },
          "metadata": {},
          "execution_count": 8
        }
      ]
    },
    {
      "cell_type": "code",
      "metadata": {
        "id": "XbZog79UNuAC"
      },
      "source": [
        "emissions_owner = emissions_monthly[['Owner Name','period','CO2 (short tons)',\t'Heat Input (MMBtu)','Year',\t'Month','Gross Load (MW-h)']].groupby(by = ['Owner Name','period','Year',\t'Month'],as_index=False).sum()"
      ],
      "execution_count": null,
      "outputs": []
    },
    {
      "cell_type": "code",
      "metadata": {
        "colab": {
          "base_uri": "https://localhost:8080/",
          "height": 424
        },
        "id": "nu-FiaYqY5xn",
        "outputId": "67551c8b-6c15-441a-c09c-1b8ed1cca99b"
      },
      "source": [
        "emissions_owner = emissions_owner[['CO2 (short tons)','Owner Name','Gross Load (MW-h)']].groupby(by = ['Owner Name'],as_index = False).sum() # For the sake of time series testing, I have kept only 1 top pollutor, will change later\n",
        "emissions_owner"
      ],
      "execution_count": null,
      "outputs": [
        {
          "output_type": "execute_result",
          "data": {
            "text/html": [
              "<div>\n",
              "<style scoped>\n",
              "    .dataframe tbody tr th:only-of-type {\n",
              "        vertical-align: middle;\n",
              "    }\n",
              "\n",
              "    .dataframe tbody tr th {\n",
              "        vertical-align: top;\n",
              "    }\n",
              "\n",
              "    .dataframe thead th {\n",
              "        text-align: right;\n",
              "    }\n",
              "</style>\n",
              "<table border=\"1\" class=\"dataframe\">\n",
              "  <thead>\n",
              "    <tr style=\"text-align: right;\">\n",
              "      <th></th>\n",
              "      <th>Owner Name</th>\n",
              "      <th>CO2 (short tons)</th>\n",
              "      <th>Gross Load (MW-h)</th>\n",
              "    </tr>\n",
              "  </thead>\n",
              "  <tbody>\n",
              "    <tr>\n",
              "      <th>0</th>\n",
              "      <td>AEE 2, LLC</td>\n",
              "      <td>3.119667e+06</td>\n",
              "      <td>0.000000e+00</td>\n",
              "    </tr>\n",
              "    <tr>\n",
              "      <th>1</th>\n",
              "      <td>AEE 2, LLC, AES Corporation</td>\n",
              "      <td>5.135959e+06</td>\n",
              "      <td>5.176134e+06</td>\n",
              "    </tr>\n",
              "    <tr>\n",
              "      <th>2</th>\n",
              "      <td>AES Corporation</td>\n",
              "      <td>1.916156e+08</td>\n",
              "      <td>2.666913e+08</td>\n",
              "    </tr>\n",
              "    <tr>\n",
              "      <th>3</th>\n",
              "      <td>AES Corporation, Indianapolis Power &amp; Light Co...</td>\n",
              "      <td>1.870400e+08</td>\n",
              "      <td>1.854496e+08</td>\n",
              "    </tr>\n",
              "    <tr>\n",
              "      <th>4</th>\n",
              "      <td>AES Puerto Rico, LP</td>\n",
              "      <td>0.000000e+00</td>\n",
              "      <td>1.658494e+06</td>\n",
              "    </tr>\n",
              "    <tr>\n",
              "      <th>...</th>\n",
              "      <td>...</td>\n",
              "      <td>...</td>\n",
              "      <td>...</td>\n",
              "    </tr>\n",
              "    <tr>\n",
              "      <th>734</th>\n",
              "      <td>Wolf Hollow II Power, LLC</td>\n",
              "      <td>1.006411e+07</td>\n",
              "      <td>2.559044e+07</td>\n",
              "    </tr>\n",
              "    <tr>\n",
              "      <th>735</th>\n",
              "      <td>Wolverine Power Supply Cooperative, Inc.</td>\n",
              "      <td>2.212325e+06</td>\n",
              "      <td>3.336925e+06</td>\n",
              "    </tr>\n",
              "    <tr>\n",
              "      <th>736</th>\n",
              "      <td>Wrightsville Power Facility, LLC</td>\n",
              "      <td>2.905817e+06</td>\n",
              "      <td>6.392331e+06</td>\n",
              "    </tr>\n",
              "    <tr>\n",
              "      <th>737</th>\n",
              "      <td>Wyandotte Municipal Services</td>\n",
              "      <td>3.868888e+06</td>\n",
              "      <td>0.000000e+00</td>\n",
              "    </tr>\n",
              "    <tr>\n",
              "      <th>738</th>\n",
              "      <td>Zion Energy Center, LLC</td>\n",
              "      <td>2.857332e+06</td>\n",
              "      <td>4.388648e+06</td>\n",
              "    </tr>\n",
              "  </tbody>\n",
              "</table>\n",
              "<p>739 rows × 3 columns</p>\n",
              "</div>"
            ],
            "text/plain": [
              "                                            Owner Name  ...  Gross Load (MW-h)\n",
              "0                                           AEE 2, LLC  ...       0.000000e+00\n",
              "1                          AEE 2, LLC, AES Corporation  ...       5.176134e+06\n",
              "2                                      AES Corporation  ...       2.666913e+08\n",
              "3    AES Corporation, Indianapolis Power & Light Co...  ...       1.854496e+08\n",
              "4                                  AES Puerto Rico, LP  ...       1.658494e+06\n",
              "..                                                 ...  ...                ...\n",
              "734                          Wolf Hollow II Power, LLC  ...       2.559044e+07\n",
              "735           Wolverine Power Supply Cooperative, Inc.  ...       3.336925e+06\n",
              "736                   Wrightsville Power Facility, LLC  ...       6.392331e+06\n",
              "737                       Wyandotte Municipal Services  ...       0.000000e+00\n",
              "738                            Zion Energy Center, LLC  ...       4.388648e+06\n",
              "\n",
              "[739 rows x 3 columns]"
            ]
          },
          "metadata": {},
          "execution_count": 10
        }
      ]
    },
    {
      "cell_type": "code",
      "source": [
        "emissions_month_level_CO2 = emissions_monthly[['CO2 (short tons)','period']].groupby(by = ['period'],as_index = True).sum()\n",
        "emissions_month_level_load = emissions_monthly[['Gross Load (MW-h)','period']].groupby(by = ['period'],as_index = True).sum()\n",
        "\n",
        "emissions_month_level_CO2"
      ],
      "metadata": {
        "colab": {
          "base_uri": "https://localhost:8080/",
          "height": 455
        },
        "id": "DcSXb7xc4GAX",
        "outputId": "312b36c4-dd08-41b2-8712-0064ff05ae39"
      },
      "execution_count": null,
      "outputs": [
        {
          "output_type": "execute_result",
          "data": {
            "text/html": [
              "<div>\n",
              "<style scoped>\n",
              "    .dataframe tbody tr th:only-of-type {\n",
              "        vertical-align: middle;\n",
              "    }\n",
              "\n",
              "    .dataframe tbody tr th {\n",
              "        vertical-align: top;\n",
              "    }\n",
              "\n",
              "    .dataframe thead th {\n",
              "        text-align: right;\n",
              "    }\n",
              "</style>\n",
              "<table border=\"1\" class=\"dataframe\">\n",
              "  <thead>\n",
              "    <tr style=\"text-align: right;\">\n",
              "      <th></th>\n",
              "      <th>CO2 (short tons)</th>\n",
              "    </tr>\n",
              "    <tr>\n",
              "      <th>period</th>\n",
              "      <th></th>\n",
              "    </tr>\n",
              "  </thead>\n",
              "  <tbody>\n",
              "    <tr>\n",
              "      <th>2005-01-01</th>\n",
              "      <td>2.112770e+08</td>\n",
              "    </tr>\n",
              "    <tr>\n",
              "      <th>2005-02-01</th>\n",
              "      <td>1.820985e+08</td>\n",
              "    </tr>\n",
              "    <tr>\n",
              "      <th>2005-03-01</th>\n",
              "      <td>1.933291e+08</td>\n",
              "    </tr>\n",
              "    <tr>\n",
              "      <th>2005-04-01</th>\n",
              "      <td>1.720819e+08</td>\n",
              "    </tr>\n",
              "    <tr>\n",
              "      <th>2005-05-01</th>\n",
              "      <td>1.851777e+08</td>\n",
              "    </tr>\n",
              "    <tr>\n",
              "      <th>...</th>\n",
              "      <td>...</td>\n",
              "    </tr>\n",
              "    <tr>\n",
              "      <th>2021-05-01</th>\n",
              "      <td>1.157826e+08</td>\n",
              "    </tr>\n",
              "    <tr>\n",
              "      <th>2021-06-01</th>\n",
              "      <td>1.565342e+08</td>\n",
              "    </tr>\n",
              "    <tr>\n",
              "      <th>2021-07-01</th>\n",
              "      <td>1.812754e+08</td>\n",
              "    </tr>\n",
              "    <tr>\n",
              "      <th>2021-08-01</th>\n",
              "      <td>1.838676e+08</td>\n",
              "    </tr>\n",
              "    <tr>\n",
              "      <th>2021-09-01</th>\n",
              "      <td>1.425480e+08</td>\n",
              "    </tr>\n",
              "  </tbody>\n",
              "</table>\n",
              "<p>201 rows × 1 columns</p>\n",
              "</div>"
            ],
            "text/plain": [
              "            CO2 (short tons)\n",
              "period                      \n",
              "2005-01-01      2.112770e+08\n",
              "2005-02-01      1.820985e+08\n",
              "2005-03-01      1.933291e+08\n",
              "2005-04-01      1.720819e+08\n",
              "2005-05-01      1.851777e+08\n",
              "...                      ...\n",
              "2021-05-01      1.157826e+08\n",
              "2021-06-01      1.565342e+08\n",
              "2021-07-01      1.812754e+08\n",
              "2021-08-01      1.838676e+08\n",
              "2021-09-01      1.425480e+08\n",
              "\n",
              "[201 rows x 1 columns]"
            ]
          },
          "metadata": {},
          "execution_count": 11
        }
      ]
    },
    {
      "cell_type": "code",
      "metadata": {
        "id": "YsT6hUHvcxiR"
      },
      "source": [
        "emissions_month_level_CO2.sort_index(inplace=True)"
      ],
      "execution_count": null,
      "outputs": []
    },
    {
      "cell_type": "code",
      "metadata": {
        "colab": {
          "base_uri": "https://localhost:8080/"
        },
        "id": "bvEvEWbAiLc9",
        "outputId": "d1813d00-2466-4d93-b4dc-dc54b1bc6458"
      },
      "source": [
        "emissions_month_level_CO2.info()"
      ],
      "execution_count": null,
      "outputs": [
        {
          "output_type": "stream",
          "name": "stdout",
          "text": [
            "<class 'pandas.core.frame.DataFrame'>\n",
            "DatetimeIndex: 201 entries, 2005-01-01 to 2021-09-01\n",
            "Data columns (total 1 columns):\n",
            " #   Column            Non-Null Count  Dtype  \n",
            "---  ------            --------------  -----  \n",
            " 0   CO2 (short tons)  201 non-null    float64\n",
            "dtypes: float64(1)\n",
            "memory usage: 3.1 KB\n"
          ]
        }
      ]
    },
    {
      "cell_type": "code",
      "source": [
        "train_CO2 = emissions_month_level_CO2\n",
        "train_CO2.plot(subplots=True)"
      ],
      "metadata": {
        "colab": {
          "base_uri": "https://localhost:8080/",
          "height": 315
        },
        "id": "LyjdokbeBGKG",
        "outputId": "3632f67e-5eca-4225-e1fb-5ed2a42c2db7"
      },
      "execution_count": null,
      "outputs": [
        {
          "output_type": "execute_result",
          "data": {
            "text/plain": [
              "array([<matplotlib.axes._subplots.AxesSubplot object at 0x7f2bc8721350>],\n",
              "      dtype=object)"
            ]
          },
          "metadata": {},
          "execution_count": 14
        },
        {
          "output_type": "display_data",
          "data": {
            "image/png": "[encoded data removed]",
            "text/plain": [
              "<Figure size 432x288 with 1 Axes>"
            ]
          },
          "metadata": {
            "needs_background": "light"
          }
        }
      ]
    },
    {
      "cell_type": "code",
      "metadata": {
        "id": "5Pv-qf6z-kSF"
      },
      "source": [
        "future_years = pd.read_csv(\"drive/MyDrive/PUI_project_Fall_2021/All_Data/predict_dates.csv\")\n",
        "future_years.period = pd.to_datetime(future_years.period)\n",
        "future_years\n",
        "test = future_years[(future_years['period'] < '2026-01-01') & (future_years['period'] > '2021-09-01')]"
      ],
      "execution_count": null,
      "outputs": []
    },
    {
      "cell_type": "code",
      "source": [
        "test.set_index('period',inplace=True)\n",
        "test.head()"
      ],
      "metadata": {
        "colab": {
          "base_uri": "https://localhost:8080/",
          "height": 220
        },
        "id": "XVdEVwpYANWC",
        "outputId": "58831f2a-afdc-4b0f-c761-5c56e3265f9a"
      },
      "execution_count": null,
      "outputs": [
        {
          "output_type": "execute_result",
          "data": {
            "text/html": [
              "<div>\n",
              "<style scoped>\n",
              "    .dataframe tbody tr th:only-of-type {\n",
              "        vertical-align: middle;\n",
              "    }\n",
              "\n",
              "    .dataframe tbody tr th {\n",
              "        vertical-align: top;\n",
              "    }\n",
              "\n",
              "    .dataframe thead th {\n",
              "        text-align: right;\n",
              "    }\n",
              "</style>\n",
              "<table border=\"1\" class=\"dataframe\">\n",
              "  <thead>\n",
              "    <tr style=\"text-align: right;\">\n",
              "      <th></th>\n",
              "    </tr>\n",
              "    <tr>\n",
              "      <th>period</th>\n",
              "    </tr>\n",
              "  </thead>\n",
              "  <tbody>\n",
              "    <tr>\n",
              "      <th>2021-10-01</th>\n",
              "    </tr>\n",
              "    <tr>\n",
              "      <th>2021-11-01</th>\n",
              "    </tr>\n",
              "    <tr>\n",
              "      <th>2021-12-01</th>\n",
              "    </tr>\n",
              "    <tr>\n",
              "      <th>2022-01-01</th>\n",
              "    </tr>\n",
              "    <tr>\n",
              "      <th>2022-02-01</th>\n",
              "    </tr>\n",
              "  </tbody>\n",
              "</table>\n",
              "</div>"
            ],
            "text/plain": [
              "Empty DataFrame\n",
              "Columns: []\n",
              "Index: [2021-10-01 00:00:00, 2021-11-01 00:00:00, 2021-12-01 00:00:00, 2022-01-01 00:00:00, 2022-02-01 00:00:00]"
            ]
          },
          "metadata": {},
          "execution_count": 16
        }
      ]
    },
    {
      "cell_type": "code",
      "metadata": {
        "colab": {
          "base_uri": "https://localhost:8080/"
        },
        "id": "5lCvVLLhf6kd",
        "outputId": "d0b6c3b0-e535-4262-ce51-cf2db0618321"
      },
      "source": [
        "! pip install pmdarima"
      ],
      "execution_count": null,
      "outputs": [
        {
          "output_type": "stream",
          "name": "stdout",
          "text": [
            "Collecting pmdarima\n",
            "  Downloading pmdarima-1.8.4-cp37-cp37m-manylinux_2_17_x86_64.manylinux2014_x86_64.manylinux_2_24_x86_64.whl (1.4 MB)\n",
            "\u001b[K     |████████████████████████████████| 1.4 MB 5.4 MB/s \n",
            "\u001b[?25hRequirement already satisfied: Cython!=0.29.18,>=0.29 in /usr/local/lib/python3.7/dist-packages (from pmdarima) (0.29.24)\n",
            "Requirement already satisfied: scikit-learn>=0.22 in /usr/local/lib/python3.7/dist-packages (from pmdarima) (1.0.1)\n",
            "Requirement already satisfied: urllib3 in /usr/local/lib/python3.7/dist-packages (from pmdarima) (1.24.3)\n",
            "Requirement already satisfied: numpy>=1.19.3 in /usr/local/lib/python3.7/dist-packages (from pmdarima) (1.19.5)\n",
            "Requirement already satisfied: scipy>=1.3.2 in /usr/local/lib/python3.7/dist-packages (from pmdarima) (1.4.1)\n",
            "Requirement already satisfied: joblib>=0.11 in /usr/local/lib/python3.7/dist-packages (from pmdarima) (1.1.0)\n",
            "Requirement already satisfied: pandas>=0.19 in /usr/local/lib/python3.7/dist-packages (from pmdarima) (1.1.5)\n",
            "Requirement already satisfied: setuptools!=50.0.0,>=38.6.0 in /usr/local/lib/python3.7/dist-packages (from pmdarima) (57.4.0)\n",
            "Collecting statsmodels!=0.12.0,>=0.11\n",
            "  Downloading statsmodels-0.13.1-cp37-cp37m-manylinux_2_17_x86_64.manylinux2014_x86_64.whl (9.8 MB)\n",
            "\u001b[K     |████████████████████████████████| 9.8 MB 12.7 MB/s \n",
            "\u001b[?25hRequirement already satisfied: python-dateutil>=2.7.3 in /usr/local/lib/python3.7/dist-packages (from pandas>=0.19->pmdarima) (2.8.2)\n",
            "Requirement already satisfied: pytz>=2017.2 in /usr/local/lib/python3.7/dist-packages (from pandas>=0.19->pmdarima) (2018.9)\n",
            "Requirement already satisfied: six>=1.5 in /usr/local/lib/python3.7/dist-packages (from python-dateutil>=2.7.3->pandas>=0.19->pmdarima) (1.15.0)\n",
            "Requirement already satisfied: threadpoolctl>=2.0.0 in /usr/local/lib/python3.7/dist-packages (from scikit-learn>=0.22->pmdarima) (3.0.0)\n",
            "Requirement already satisfied: patsy>=0.5.2 in /usr/local/lib/python3.7/dist-packages (from statsmodels!=0.12.0,>=0.11->pmdarima) (0.5.2)\n",
            "Installing collected packages: statsmodels, pmdarima\n",
            "  Attempting uninstall: statsmodels\n",
            "    Found existing installation: statsmodels 0.10.2\n",
            "    Uninstalling statsmodels-0.10.2:\n",
            "      Successfully uninstalled statsmodels-0.10.2\n",
            "Successfully installed pmdarima-1.8.4 statsmodels-0.13.1\n"
          ]
        }
      ]
    },
    {
      "cell_type": "code",
      "metadata": {
        "id": "mnA5NKluf-6c"
      },
      "source": [
        "from pmdarima.arima import auto_arima"
      ],
      "execution_count": null,
      "outputs": []
    },
    {
      "cell_type": "code",
      "source": [
        "arima_model_co2 =  auto_arima(train_CO2,start_p=0, d=None, start_q=0, \n",
        "                          max_p=5, max_d=5, max_q=5, start_P=0, \n",
        "                          D=1, start_Q=0, max_P=5, max_D=5,\n",
        "                          max_Q=2, m=12, seasonal=True, \n",
        "                          error_action='warn',trace = True,\n",
        "                          supress_warnings=True,stepwise = True,\n",
        "                          random_state=20,n_fits = 50 )"
      ],
      "metadata": {
        "colab": {
          "base_uri": "https://localhost:8080/"
        },
        "id": "ZThP-vWNDIfF",
        "outputId": "a1feee17-bb6b-4e81-f9c4-dc109329a59e"
      },
      "execution_count": null,
      "outputs": [
        {
          "output_type": "stream",
          "name": "stdout",
          "text": [
            "Performing stepwise search to minimize aic\n",
            " ARIMA(0,0,0)(0,1,0)[12] intercept   : AIC=6740.335, Time=0.08 sec\n",
            " ARIMA(1,0,0)(1,1,0)[12] intercept   : AIC=6727.423, Time=0.46 sec\n",
            " ARIMA(0,0,1)(0,1,1)[12] intercept   : AIC=6716.049, Time=0.42 sec\n",
            " ARIMA(0,0,0)(0,1,0)[12]             : AIC=6758.938, Time=0.03 sec\n",
            " ARIMA(0,0,1)(0,1,0)[12] intercept   : AIC=6718.619, Time=0.09 sec\n",
            " ARIMA(0,0,1)(1,1,1)[12] intercept   : AIC=6717.931, Time=0.38 sec\n",
            " ARIMA(0,0,1)(0,1,2)[12] intercept   : AIC=6716.914, Time=1.26 sec\n",
            " ARIMA(0,0,1)(1,1,0)[12] intercept   : AIC=6715.961, Time=0.27 sec\n",
            " ARIMA(0,0,1)(2,1,0)[12] intercept   : AIC=6717.088, Time=0.79 sec\n",
            " ARIMA(0,0,1)(2,1,1)[12] intercept   : AIC=6718.790, Time=1.38 sec\n",
            " ARIMA(0,0,0)(1,1,0)[12] intercept   : AIC=6741.713, Time=0.46 sec\n",
            " ARIMA(1,0,1)(1,1,0)[12] intercept   : AIC=6727.238, Time=0.75 sec\n",
            " ARIMA(0,0,2)(1,1,0)[12] intercept   : AIC=6711.637, Time=0.32 sec\n",
            " ARIMA(0,0,2)(0,1,0)[12] intercept   : AIC=6718.184, Time=0.15 sec\n",
            " ARIMA(0,0,2)(2,1,0)[12] intercept   : AIC=6713.078, Time=0.97 sec\n",
            " ARIMA(0,0,2)(1,1,1)[12] intercept   : AIC=6713.626, Time=0.82 sec\n",
            " ARIMA(0,0,2)(0,1,1)[12] intercept   : AIC=6711.763, Time=1.87 sec\n",
            " ARIMA(0,0,2)(2,1,1)[12] intercept   : AIC=6714.556, Time=1.73 sec\n",
            " ARIMA(1,0,2)(1,1,0)[12] intercept   : AIC=6723.760, Time=0.93 sec\n",
            " ARIMA(0,0,3)(1,1,0)[12] intercept   : AIC=6713.911, Time=0.43 sec\n",
            " ARIMA(1,0,3)(1,1,0)[12] intercept   : AIC=6724.092, Time=1.10 sec\n",
            " ARIMA(0,0,2)(1,1,0)[12]             : AIC=6720.897, Time=0.32 sec\n",
            "\n",
            "Best model:  ARIMA(0,0,2)(1,1,0)[12] intercept\n",
            "Total fit time: 15.054 seconds\n"
          ]
        }
      ]
    },
    {
      "cell_type": "code",
      "metadata": {
        "colab": {
          "base_uri": "https://localhost:8080/",
          "height": 1000
        },
        "id": "m9t92aBmi1ZO",
        "outputId": "93f59f68-8c9b-4bae-e782-e80da9a9a6e5"
      },
      "source": [
        "prediction_CO2 = pd.DataFrame(arima_model_co2.predict(n_periods = 51),index=test.index)\n",
        "prediction_CO2.columns = ['predicted_emissions']\n",
        "prediction_CO2"
      ],
      "execution_count": null,
      "outputs": [
        {
          "output_type": "execute_result",
          "data": {
            "text/html": [
              "<div>\n",
              "<style scoped>\n",
              "    .dataframe tbody tr th:only-of-type {\n",
              "        vertical-align: middle;\n",
              "    }\n",
              "\n",
              "    .dataframe tbody tr th {\n",
              "        vertical-align: top;\n",
              "    }\n",
              "\n",
              "    .dataframe thead th {\n",
              "        text-align: right;\n",
              "    }\n",
              "</style>\n",
              "<table border=\"1\" class=\"dataframe\">\n",
              "  <thead>\n",
              "    <tr style=\"text-align: right;\">\n",
              "      <th></th>\n",
              "      <th>predicted_emissions</th>\n",
              "    </tr>\n",
              "    <tr>\n",
              "      <th>period</th>\n",
              "      <th></th>\n",
              "    </tr>\n",
              "  </thead>\n",
              "  <tbody>\n",
              "    <tr>\n",
              "      <th>2021-10-01</th>\n",
              "      <td>1.187921e+08</td>\n",
              "    </tr>\n",
              "    <tr>\n",
              "      <th>2021-11-01</th>\n",
              "      <td>1.073102e+08</td>\n",
              "    </tr>\n",
              "    <tr>\n",
              "      <th>2021-12-01</th>\n",
              "      <td>1.304534e+08</td>\n",
              "    </tr>\n",
              "    <tr>\n",
              "      <th>2022-01-01</th>\n",
              "      <td>1.320401e+08</td>\n",
              "    </tr>\n",
              "    <tr>\n",
              "      <th>2022-02-01</th>\n",
              "      <td>1.343629e+08</td>\n",
              "    </tr>\n",
              "    <tr>\n",
              "      <th>2022-03-01</th>\n",
              "      <td>1.053536e+08</td>\n",
              "    </tr>\n",
              "    <tr>\n",
              "      <th>2022-04-01</th>\n",
              "      <td>9.663003e+07</td>\n",
              "    </tr>\n",
              "    <tr>\n",
              "      <th>2022-05-01</th>\n",
              "      <td>1.109869e+08</td>\n",
              "    </tr>\n",
              "    <tr>\n",
              "      <th>2022-06-01</th>\n",
              "      <td>1.513240e+08</td>\n",
              "    </tr>\n",
              "    <tr>\n",
              "      <th>2022-07-01</th>\n",
              "      <td>1.774490e+08</td>\n",
              "    </tr>\n",
              "    <tr>\n",
              "      <th>2022-08-01</th>\n",
              "      <td>1.795985e+08</td>\n",
              "    </tr>\n",
              "    <tr>\n",
              "      <th>2022-09-01</th>\n",
              "      <td>1.382488e+08</td>\n",
              "    </tr>\n",
              "    <tr>\n",
              "      <th>2022-10-01</th>\n",
              "      <td>1.151205e+08</td>\n",
              "    </tr>\n",
              "    <tr>\n",
              "      <th>2022-11-01</th>\n",
              "      <td>1.037637e+08</td>\n",
              "    </tr>\n",
              "    <tr>\n",
              "      <th>2022-12-01</th>\n",
              "      <td>1.270954e+08</td>\n",
              "    </tr>\n",
              "    <tr>\n",
              "      <th>2023-01-01</th>\n",
              "      <td>1.287136e+08</td>\n",
              "    </tr>\n",
              "    <tr>\n",
              "      <th>2023-02-01</th>\n",
              "      <td>1.311033e+08</td>\n",
              "    </tr>\n",
              "    <tr>\n",
              "      <th>2023-03-01</th>\n",
              "      <td>1.019891e+08</td>\n",
              "    </tr>\n",
              "    <tr>\n",
              "      <th>2023-04-01</th>\n",
              "      <td>9.330366e+07</td>\n",
              "    </tr>\n",
              "    <tr>\n",
              "      <th>2023-05-01</th>\n",
              "      <td>1.076776e+08</td>\n",
              "    </tr>\n",
              "    <tr>\n",
              "      <th>2023-06-01</th>\n",
              "      <td>1.480419e+08</td>\n",
              "    </tr>\n",
              "    <tr>\n",
              "      <th>2023-07-01</th>\n",
              "      <td>1.740762e+08</td>\n",
              "    </tr>\n",
              "    <tr>\n",
              "      <th>2023-08-01</th>\n",
              "      <td>1.762546e+08</td>\n",
              "    </tr>\n",
              "    <tr>\n",
              "      <th>2023-09-01</th>\n",
              "      <td>1.349069e+08</td>\n",
              "    </tr>\n",
              "    <tr>\n",
              "      <th>2023-10-01</th>\n",
              "      <td>1.117376e+08</td>\n",
              "    </tr>\n",
              "    <tr>\n",
              "      <th>2023-11-01</th>\n",
              "      <td>1.003725e+08</td>\n",
              "    </tr>\n",
              "    <tr>\n",
              "      <th>2023-12-01</th>\n",
              "      <td>1.236919e+08</td>\n",
              "    </tr>\n",
              "    <tr>\n",
              "      <th>2024-01-01</th>\n",
              "      <td>1.253080e+08</td>\n",
              "    </tr>\n",
              "    <tr>\n",
              "      <th>2024-02-01</th>\n",
              "      <td>1.276933e+08</td>\n",
              "    </tr>\n",
              "    <tr>\n",
              "      <th>2024-03-01</th>\n",
              "      <td>9.858595e+07</td>\n",
              "    </tr>\n",
              "    <tr>\n",
              "      <th>2024-04-01</th>\n",
              "      <td>8.989805e+07</td>\n",
              "    </tr>\n",
              "    <tr>\n",
              "      <th>2024-05-01</th>\n",
              "      <td>1.042709e+08</td>\n",
              "    </tr>\n",
              "    <tr>\n",
              "      <th>2024-06-01</th>\n",
              "      <td>1.446334e+08</td>\n",
              "    </tr>\n",
              "    <tr>\n",
              "      <th>2024-07-01</th>\n",
              "      <td>1.706736e+08</td>\n",
              "    </tr>\n",
              "    <tr>\n",
              "      <th>2024-08-01</th>\n",
              "      <td>1.728502e+08</td>\n",
              "    </tr>\n",
              "    <tr>\n",
              "      <th>2024-09-01</th>\n",
              "      <td>1.315023e+08</td>\n",
              "    </tr>\n",
              "    <tr>\n",
              "      <th>2024-10-01</th>\n",
              "      <td>1.083357e+08</td>\n",
              "    </tr>\n",
              "    <tr>\n",
              "      <th>2024-11-01</th>\n",
              "      <td>9.697114e+07</td>\n",
              "    </tr>\n",
              "    <tr>\n",
              "      <th>2024-12-01</th>\n",
              "      <td>1.202913e+08</td>\n",
              "    </tr>\n",
              "    <tr>\n",
              "      <th>2025-01-01</th>\n",
              "      <td>1.219076e+08</td>\n",
              "    </tr>\n",
              "    <tr>\n",
              "      <th>2025-02-01</th>\n",
              "      <td>1.242932e+08</td>\n",
              "    </tr>\n",
              "    <tr>\n",
              "      <th>2025-03-01</th>\n",
              "      <td>9.518537e+07</td>\n",
              "    </tr>\n",
              "    <tr>\n",
              "      <th>2025-04-01</th>\n",
              "      <td>8.649764e+07</td>\n",
              "    </tr>\n",
              "    <tr>\n",
              "      <th>2025-05-01</th>\n",
              "      <td>1.008705e+08</td>\n",
              "    </tr>\n",
              "    <tr>\n",
              "      <th>2025-06-01</th>\n",
              "      <td>1.412332e+08</td>\n",
              "    </tr>\n",
              "    <tr>\n",
              "      <th>2025-07-01</th>\n",
              "      <td>1.672730e+08</td>\n",
              "    </tr>\n",
              "    <tr>\n",
              "      <th>2025-08-01</th>\n",
              "      <td>1.694497e+08</td>\n",
              "    </tr>\n",
              "    <tr>\n",
              "      <th>2025-09-01</th>\n",
              "      <td>1.281018e+08</td>\n",
              "    </tr>\n",
              "    <tr>\n",
              "      <th>2025-10-01</th>\n",
              "      <td>1.049350e+08</td>\n",
              "    </tr>\n",
              "    <tr>\n",
              "      <th>2025-11-01</th>\n",
              "      <td>9.357044e+07</td>\n",
              "    </tr>\n",
              "    <tr>\n",
              "      <th>2025-12-01</th>\n",
              "      <td>1.168906e+08</td>\n",
              "    </tr>\n",
              "  </tbody>\n",
              "</table>\n",
              "</div>"
            ],
            "text/plain": [
              "            predicted_emissions\n",
              "period                         \n",
              "2021-10-01         1.187921e+08\n",
              "2021-11-01         1.073102e+08\n",
              "2021-12-01         1.304534e+08\n",
              "2022-01-01         1.320401e+08\n",
              "2022-02-01         1.343629e+08\n",
              "2022-03-01         1.053536e+08\n",
              "2022-04-01         9.663003e+07\n",
              "2022-05-01         1.109869e+08\n",
              "2022-06-01         1.513240e+08\n",
              "2022-07-01         1.774490e+08\n",
              "2022-08-01         1.795985e+08\n",
              "2022-09-01         1.382488e+08\n",
              "2022-10-01         1.151205e+08\n",
              "2022-11-01         1.037637e+08\n",
              "2022-12-01         1.270954e+08\n",
              "2023-01-01         1.287136e+08\n",
              "2023-02-01         1.311033e+08\n",
              "2023-03-01         1.019891e+08\n",
              "2023-04-01         9.330366e+07\n",
              "2023-05-01         1.076776e+08\n",
              "2023-06-01         1.480419e+08\n",
              "2023-07-01         1.740762e+08\n",
              "2023-08-01         1.762546e+08\n",
              "2023-09-01         1.349069e+08\n",
              "2023-10-01         1.117376e+08\n",
              "2023-11-01         1.003725e+08\n",
              "2023-12-01         1.236919e+08\n",
              "2024-01-01         1.253080e+08\n",
              "2024-02-01         1.276933e+08\n",
              "2024-03-01         9.858595e+07\n",
              "2024-04-01         8.989805e+07\n",
              "2024-05-01         1.042709e+08\n",
              "2024-06-01         1.446334e+08\n",
              "2024-07-01         1.706736e+08\n",
              "2024-08-01         1.728502e+08\n",
              "2024-09-01         1.315023e+08\n",
              "2024-10-01         1.083357e+08\n",
              "2024-11-01         9.697114e+07\n",
              "2024-12-01         1.202913e+08\n",
              "2025-01-01         1.219076e+08\n",
              "2025-02-01         1.242932e+08\n",
              "2025-03-01         9.518537e+07\n",
              "2025-04-01         8.649764e+07\n",
              "2025-05-01         1.008705e+08\n",
              "2025-06-01         1.412332e+08\n",
              "2025-07-01         1.672730e+08\n",
              "2025-08-01         1.694497e+08\n",
              "2025-09-01         1.281018e+08\n",
              "2025-10-01         1.049350e+08\n",
              "2025-11-01         9.357044e+07\n",
              "2025-12-01         1.168906e+08"
            ]
          },
          "metadata": {},
          "execution_count": 20
        }
      ]
    },
    {
      "cell_type": "code",
      "source": [
        "emissions_month_level_CO2[\"year\"] = pd.DatetimeIndex(emissions_month_level_CO2.index).year\n",
        "\n",
        "emissions_month_level_CO2.year = \"01-01-\" + emissions_month_level_CO2.year.astype(str) \n",
        "emissions_month_level_CO2.year = pd.DatetimeIndex(emissions_month_level_CO2.year.astype(str))\n",
        "emissions_month_level_CO2.info()"
      ],
      "metadata": {
        "colab": {
          "base_uri": "https://localhost:8080/"
        },
        "id": "alvs2atU_f9A",
        "outputId": "c85631d2-7860-4db8-d949-fbbca3ba77e1"
      },
      "execution_count": null,
      "outputs": [
        {
          "output_type": "stream",
          "name": "stdout",
          "text": [
            "<class 'pandas.core.frame.DataFrame'>\n",
            "DatetimeIndex: 201 entries, 2005-01-01 to 2021-09-01\n",
            "Data columns (total 2 columns):\n",
            " #   Column            Non-Null Count  Dtype         \n",
            "---  ------            --------------  -----         \n",
            " 0   CO2 (short tons)  201 non-null    float64       \n",
            " 1   year              201 non-null    datetime64[ns]\n",
            "dtypes: datetime64[ns](1), float64(1)\n",
            "memory usage: 4.7 KB\n"
          ]
        }
      ]
    },
    {
      "cell_type": "code",
      "source": [
        "emissions_month_level_CO2_yrly_sum = emissions_month_level_CO2[['CO2 (short tons)','year']].groupby(by = 'year').sum()\n",
        "emissions_month_level_CO2_yrly_sum"
      ],
      "metadata": {
        "colab": {
          "base_uri": "https://localhost:8080/",
          "height": 614
        },
        "id": "179ZGofX_S4i",
        "outputId": "24c9b992-9a2e-43bf-c416-5debc0ea134d"
      },
      "execution_count": null,
      "outputs": [
        {
          "output_type": "execute_result",
          "data": {
            "text/html": [
              "<div>\n",
              "<style scoped>\n",
              "    .dataframe tbody tr th:only-of-type {\n",
              "        vertical-align: middle;\n",
              "    }\n",
              "\n",
              "    .dataframe tbody tr th {\n",
              "        vertical-align: top;\n",
              "    }\n",
              "\n",
              "    .dataframe thead th {\n",
              "        text-align: right;\n",
              "    }\n",
              "</style>\n",
              "<table border=\"1\" class=\"dataframe\">\n",
              "  <thead>\n",
              "    <tr style=\"text-align: right;\">\n",
              "      <th></th>\n",
              "      <th>CO2 (short tons)</th>\n",
              "    </tr>\n",
              "    <tr>\n",
              "      <th>year</th>\n",
              "      <th></th>\n",
              "    </tr>\n",
              "  </thead>\n",
              "  <tbody>\n",
              "    <tr>\n",
              "      <th>2005-01-01</th>\n",
              "      <td>2.472055e+09</td>\n",
              "    </tr>\n",
              "    <tr>\n",
              "      <th>2006-01-01</th>\n",
              "      <td>2.426609e+09</td>\n",
              "    </tr>\n",
              "    <tr>\n",
              "      <th>2007-01-01</th>\n",
              "      <td>2.493351e+09</td>\n",
              "    </tr>\n",
              "    <tr>\n",
              "      <th>2008-01-01</th>\n",
              "      <td>2.443351e+09</td>\n",
              "    </tr>\n",
              "    <tr>\n",
              "      <th>2009-01-01</th>\n",
              "      <td>2.222395e+09</td>\n",
              "    </tr>\n",
              "    <tr>\n",
              "      <th>2010-01-01</th>\n",
              "      <td>2.359750e+09</td>\n",
              "    </tr>\n",
              "    <tr>\n",
              "      <th>2011-01-01</th>\n",
              "      <td>2.255638e+09</td>\n",
              "    </tr>\n",
              "    <tr>\n",
              "      <th>2012-01-01</th>\n",
              "      <td>2.112145e+09</td>\n",
              "    </tr>\n",
              "    <tr>\n",
              "      <th>2013-01-01</th>\n",
              "      <td>2.139640e+09</td>\n",
              "    </tr>\n",
              "    <tr>\n",
              "      <th>2014-01-01</th>\n",
              "      <td>2.139114e+09</td>\n",
              "    </tr>\n",
              "    <tr>\n",
              "      <th>2015-01-01</th>\n",
              "      <td>1.996716e+09</td>\n",
              "    </tr>\n",
              "    <tr>\n",
              "      <th>2016-01-01</th>\n",
              "      <td>1.899293e+09</td>\n",
              "    </tr>\n",
              "    <tr>\n",
              "      <th>2017-01-01</th>\n",
              "      <td>1.829015e+09</td>\n",
              "    </tr>\n",
              "    <tr>\n",
              "      <th>2018-01-01</th>\n",
              "      <td>1.839860e+09</td>\n",
              "    </tr>\n",
              "    <tr>\n",
              "      <th>2019-01-01</th>\n",
              "      <td>1.683119e+09</td>\n",
              "    </tr>\n",
              "    <tr>\n",
              "      <th>2020-01-01</th>\n",
              "      <td>1.500376e+09</td>\n",
              "    </tr>\n",
              "    <tr>\n",
              "      <th>2021-01-01</th>\n",
              "      <td>1.266971e+09</td>\n",
              "    </tr>\n",
              "  </tbody>\n",
              "</table>\n",
              "</div>"
            ],
            "text/plain": [
              "            CO2 (short tons)\n",
              "year                        \n",
              "2005-01-01      2.472055e+09\n",
              "2006-01-01      2.426609e+09\n",
              "2007-01-01      2.493351e+09\n",
              "2008-01-01      2.443351e+09\n",
              "2009-01-01      2.222395e+09\n",
              "2010-01-01      2.359750e+09\n",
              "2011-01-01      2.255638e+09\n",
              "2012-01-01      2.112145e+09\n",
              "2013-01-01      2.139640e+09\n",
              "2014-01-01      2.139114e+09\n",
              "2015-01-01      1.996716e+09\n",
              "2016-01-01      1.899293e+09\n",
              "2017-01-01      1.829015e+09\n",
              "2018-01-01      1.839860e+09\n",
              "2019-01-01      1.683119e+09\n",
              "2020-01-01      1.500376e+09\n",
              "2021-01-01      1.266971e+09"
            ]
          },
          "metadata": {},
          "execution_count": 22
        }
      ]
    },
    {
      "cell_type": "code",
      "source": [
        "prediction_CO2[\"year\"] = pd.DatetimeIndex(prediction_CO2.index).year\n",
        "\n",
        "prediction_CO2.year = \"01-01-\" + prediction_CO2.year.astype(str) \n",
        "prediction_CO2.year = pd.DatetimeIndex(prediction_CO2.year.astype(str))\n"
      ],
      "metadata": {
        "id": "NXK_VlYjB_ey"
      },
      "execution_count": null,
      "outputs": []
    },
    {
      "cell_type": "code",
      "source": [
        "prediction_CO2_yrly_sum = prediction_CO2[['predicted_emissions','year']].groupby(by = 'year').sum()\n",
        "prediction_CO2_yrly_sum.head()"
      ],
      "metadata": {
        "colab": {
          "base_uri": "https://localhost:8080/",
          "height": 238
        },
        "id": "A9pcBnkjB27j",
        "outputId": "afb020ea-011e-4c7a-d85f-8c315ecb254e"
      },
      "execution_count": null,
      "outputs": [
        {
          "output_type": "execute_result",
          "data": {
            "text/html": [
              "<div>\n",
              "<style scoped>\n",
              "    .dataframe tbody tr th:only-of-type {\n",
              "        vertical-align: middle;\n",
              "    }\n",
              "\n",
              "    .dataframe tbody tr th {\n",
              "        vertical-align: top;\n",
              "    }\n",
              "\n",
              "    .dataframe thead th {\n",
              "        text-align: right;\n",
              "    }\n",
              "</style>\n",
              "<table border=\"1\" class=\"dataframe\">\n",
              "  <thead>\n",
              "    <tr style=\"text-align: right;\">\n",
              "      <th></th>\n",
              "      <th>predicted_emissions</th>\n",
              "    </tr>\n",
              "    <tr>\n",
              "      <th>year</th>\n",
              "      <th></th>\n",
              "    </tr>\n",
              "  </thead>\n",
              "  <tbody>\n",
              "    <tr>\n",
              "      <th>2021-01-01</th>\n",
              "      <td>3.565556e+08</td>\n",
              "    </tr>\n",
              "    <tr>\n",
              "      <th>2022-01-01</th>\n",
              "      <td>1.571973e+09</td>\n",
              "    </tr>\n",
              "    <tr>\n",
              "      <th>2023-01-01</th>\n",
              "      <td>1.531869e+09</td>\n",
              "    </tr>\n",
              "    <tr>\n",
              "      <th>2024-01-01</th>\n",
              "      <td>1.491014e+09</td>\n",
              "    </tr>\n",
              "    <tr>\n",
              "      <th>2025-01-01</th>\n",
              "      <td>1.450208e+09</td>\n",
              "    </tr>\n",
              "  </tbody>\n",
              "</table>\n",
              "</div>"
            ],
            "text/plain": [
              "            predicted_emissions\n",
              "year                           \n",
              "2021-01-01         3.565556e+08\n",
              "2022-01-01         1.571973e+09\n",
              "2023-01-01         1.531869e+09\n",
              "2024-01-01         1.491014e+09\n",
              "2025-01-01         1.450208e+09"
            ]
          },
          "metadata": {},
          "execution_count": 24
        }
      ]
    },
    {
      "cell_type": "code",
      "source": [
        "test_mv = prediction_CO2_yrly_sum[0:1]['predicted_emissions'].item() + emissions_month_level_CO2_yrly_sum[-1:]['CO2 (short tons)'].item()\n",
        "test_mv"
      ],
      "metadata": {
        "colab": {
          "base_uri": "https://localhost:8080/"
        },
        "id": "DI7LQK0wMZ_v",
        "outputId": "27cd894a-c429-4133-d71e-4d4bedc03957"
      },
      "execution_count": null,
      "outputs": [
        {
          "output_type": "execute_result",
          "data": {
            "text/plain": [
              "1623526690.8979928"
            ]
          },
          "metadata": {},
          "execution_count": 25
        }
      ]
    },
    {
      "cell_type": "code",
      "source": [
        "prediction_CO2_yrly_sum[0:1]['predicted_emissions'] = test_mv\n",
        "prediction_CO2_yrly_sum"
      ],
      "metadata": {
        "colab": {
          "base_uri": "https://localhost:8080/",
          "height": 342
        },
        "id": "7ILQH6v2N-tL",
        "outputId": "eacc7c0e-296d-408d-e5d4-a3a5210c947d"
      },
      "execution_count": null,
      "outputs": [
        {
          "output_type": "stream",
          "name": "stderr",
          "text": [
            "/usr/local/lib/python3.7/dist-packages/ipykernel_launcher.py:1: SettingWithCopyWarning: \n",
            "A value is trying to be set on a copy of a slice from a DataFrame.\n",
            "Try using .loc[row_indexer,col_indexer] = value instead\n",
            "\n",
            "See the caveats in the documentation: https://pandas.pydata.org/pandas-docs/stable/user_guide/indexing.html#returning-a-view-versus-a-copy\n",
            "  \"\"\"Entry point for launching an IPython kernel.\n"
          ]
        },
        {
          "output_type": "execute_result",
          "data": {
            "text/html": [
              "<div>\n",
              "<style scoped>\n",
              "    .dataframe tbody tr th:only-of-type {\n",
              "        vertical-align: middle;\n",
              "    }\n",
              "\n",
              "    .dataframe tbody tr th {\n",
              "        vertical-align: top;\n",
              "    }\n",
              "\n",
              "    .dataframe thead th {\n",
              "        text-align: right;\n",
              "    }\n",
              "</style>\n",
              "<table border=\"1\" class=\"dataframe\">\n",
              "  <thead>\n",
              "    <tr style=\"text-align: right;\">\n",
              "      <th></th>\n",
              "      <th>predicted_emissions</th>\n",
              "    </tr>\n",
              "    <tr>\n",
              "      <th>year</th>\n",
              "      <th></th>\n",
              "    </tr>\n",
              "  </thead>\n",
              "  <tbody>\n",
              "    <tr>\n",
              "      <th>2021-01-01</th>\n",
              "      <td>1.623527e+09</td>\n",
              "    </tr>\n",
              "    <tr>\n",
              "      <th>2022-01-01</th>\n",
              "      <td>1.571973e+09</td>\n",
              "    </tr>\n",
              "    <tr>\n",
              "      <th>2023-01-01</th>\n",
              "      <td>1.531869e+09</td>\n",
              "    </tr>\n",
              "    <tr>\n",
              "      <th>2024-01-01</th>\n",
              "      <td>1.491014e+09</td>\n",
              "    </tr>\n",
              "    <tr>\n",
              "      <th>2025-01-01</th>\n",
              "      <td>1.450208e+09</td>\n",
              "    </tr>\n",
              "  </tbody>\n",
              "</table>\n",
              "</div>"
            ],
            "text/plain": [
              "            predicted_emissions\n",
              "year                           \n",
              "2021-01-01         1.623527e+09\n",
              "2022-01-01         1.571973e+09\n",
              "2023-01-01         1.531869e+09\n",
              "2024-01-01         1.491014e+09\n",
              "2025-01-01         1.450208e+09"
            ]
          },
          "metadata": {},
          "execution_count": 26
        }
      ]
    },
    {
      "cell_type": "code",
      "source": [
        "emissions_month_level_CO2_yrly_sum[-1:]['CO2 (short tons)'] = test_mv\n",
        "emissions_month_level_CO2_yrly_sum[-1:]"
      ],
      "metadata": {
        "colab": {
          "base_uri": "https://localhost:8080/",
          "height": 216
        },
        "id": "515422k1Orln",
        "outputId": "58ee50d0-2626-4a23-c511-03109cd9d605"
      },
      "execution_count": null,
      "outputs": [
        {
          "output_type": "stream",
          "name": "stderr",
          "text": [
            "/usr/local/lib/python3.7/dist-packages/ipykernel_launcher.py:1: SettingWithCopyWarning: \n",
            "A value is trying to be set on a copy of a slice from a DataFrame.\n",
            "Try using .loc[row_indexer,col_indexer] = value instead\n",
            "\n",
            "See the caveats in the documentation: https://pandas.pydata.org/pandas-docs/stable/user_guide/indexing.html#returning-a-view-versus-a-copy\n",
            "  \"\"\"Entry point for launching an IPython kernel.\n"
          ]
        },
        {
          "output_type": "execute_result",
          "data": {
            "text/html": [
              "<div>\n",
              "<style scoped>\n",
              "    .dataframe tbody tr th:only-of-type {\n",
              "        vertical-align: middle;\n",
              "    }\n",
              "\n",
              "    .dataframe tbody tr th {\n",
              "        vertical-align: top;\n",
              "    }\n",
              "\n",
              "    .dataframe thead th {\n",
              "        text-align: right;\n",
              "    }\n",
              "</style>\n",
              "<table border=\"1\" class=\"dataframe\">\n",
              "  <thead>\n",
              "    <tr style=\"text-align: right;\">\n",
              "      <th></th>\n",
              "      <th>CO2 (short tons)</th>\n",
              "    </tr>\n",
              "    <tr>\n",
              "      <th>year</th>\n",
              "      <th></th>\n",
              "    </tr>\n",
              "  </thead>\n",
              "  <tbody>\n",
              "    <tr>\n",
              "      <th>2021-01-01</th>\n",
              "      <td>1.623527e+09</td>\n",
              "    </tr>\n",
              "  </tbody>\n",
              "</table>\n",
              "</div>"
            ],
            "text/plain": [
              "            CO2 (short tons)\n",
              "year                        \n",
              "2021-01-01      1.623527e+09"
            ]
          },
          "metadata": {},
          "execution_count": 27
        }
      ]
    },
    {
      "cell_type": "code",
      "source": [
        "#for predicting gross load requirements\n",
        "\n",
        "emissions_month_level_load.plot(subplots=True)"
      ],
      "metadata": {
        "colab": {
          "base_uri": "https://localhost:8080/",
          "height": 315
        },
        "id": "_0utuFp_N8SQ",
        "outputId": "c549a0d0-b64f-4266-99b0-19f854dce0ba"
      },
      "execution_count": null,
      "outputs": [
        {
          "output_type": "execute_result",
          "data": {
            "text/plain": [
              "array([<matplotlib.axes._subplots.AxesSubplot object at 0x7f2ba05f8e50>],\n",
              "      dtype=object)"
            ]
          },
          "metadata": {},
          "execution_count": 28
        },
        {
          "output_type": "display_data",
          "data": {
            "image/png": "[encoded data removed]",
            "text/plain": [
              "<Figure size 432x288 with 1 Axes>"
            ]
          },
          "metadata": {
            "needs_background": "light"
          }
        }
      ]
    },
    {
      "cell_type": "code",
      "source": [
        "train_load = emissions_month_level_load"
      ],
      "metadata": {
        "id": "uQFk3SzuPR3I"
      },
      "execution_count": null,
      "outputs": []
    },
    {
      "cell_type": "code",
      "source": [
        "#Testing for stationarity\n",
        "from pmdarima.arima import ADFTest\n",
        "adf_test = ADFTest(alpha = 0.05)\n",
        "adf_test.should_diff(train_load)"
      ],
      "metadata": {
        "colab": {
          "base_uri": "https://localhost:8080/"
        },
        "id": "t4A3vQn3Pz0m",
        "outputId": "dd5d3145-bb5a-411a-a41e-7afedc096b96"
      },
      "execution_count": null,
      "outputs": [
        {
          "output_type": "execute_result",
          "data": {
            "text/plain": [
              "(0.01, False)"
            ]
          },
          "metadata": {},
          "execution_count": 30
        }
      ]
    },
    {
      "cell_type": "code",
      "source": [
        "arima_model_load =  auto_arima(train_load,start_p=0, d=None, start_q=0, \n",
        "                          max_p=5, max_d=5, max_q=5, start_P=0, \n",
        "                          D=1, start_Q=0, max_P=5, max_D=5,\n",
        "                          max_Q=2, m=12, seasonal=True, \n",
        "                          error_action='warn',trace = True,\n",
        "                          supress_warnings=True,stepwise = True,\n",
        "                          random_state=20,n_fits = 50 )"
      ],
      "metadata": {
        "colab": {
          "base_uri": "https://localhost:8080/"
        },
        "id": "jEknFNsUPsxR",
        "outputId": "760ef5eb-f678-4f01-ce54-645dfacf8912"
      },
      "execution_count": null,
      "outputs": [
        {
          "output_type": "stream",
          "name": "stdout",
          "text": [
            "Performing stepwise search to minimize aic\n",
            " ARIMA(0,0,0)(0,1,0)[12] intercept   : AIC=6733.071, Time=0.03 sec\n",
            " ARIMA(1,0,0)(1,1,0)[12] intercept   : AIC=6731.591, Time=0.41 sec\n",
            " ARIMA(0,0,1)(0,1,1)[12] intercept   : AIC=6725.313, Time=0.37 sec\n",
            " ARIMA(0,0,0)(0,1,0)[12]             : AIC=6734.825, Time=0.02 sec\n",
            " ARIMA(0,0,1)(0,1,0)[12] intercept   : AIC=6727.046, Time=0.10 sec\n",
            " ARIMA(0,0,1)(1,1,1)[12] intercept   : AIC=6726.237, Time=0.65 sec\n",
            " ARIMA(0,0,1)(0,1,2)[12] intercept   : AIC=6725.197, Time=1.46 sec\n",
            " ARIMA(0,0,1)(1,1,2)[12] intercept   : AIC=6727.085, Time=2.30 sec\n",
            " ARIMA(0,0,0)(0,1,2)[12] intercept   : AIC=6733.232, Time=0.92 sec\n",
            " ARIMA(1,0,1)(0,1,2)[12] intercept   : AIC=6734.153, Time=2.82 sec\n",
            " ARIMA(0,0,2)(0,1,2)[12] intercept   : AIC=6727.797, Time=2.06 sec\n",
            " ARIMA(1,0,0)(0,1,2)[12] intercept   : AIC=6731.946, Time=1.46 sec\n",
            " ARIMA(1,0,2)(0,1,2)[12] intercept   : AIC=6734.842, Time=3.52 sec\n",
            " ARIMA(0,0,1)(0,1,2)[12]             : AIC=6725.848, Time=1.28 sec\n",
            "\n",
            "Best model:  ARIMA(0,0,1)(0,1,2)[12] intercept\n",
            "Total fit time: 17.438 seconds\n"
          ]
        }
      ]
    },
    {
      "cell_type": "code",
      "source": [
        "prediction_load = pd.DataFrame(arima_model_load.predict(n_periods = 51),index=test.index)\n",
        "prediction_load.columns = ['predicted_load']\n",
        "prediction_load"
      ],
      "metadata": {
        "colab": {
          "base_uri": "https://localhost:8080/",
          "height": 1000
        },
        "id": "TIcjzkF2QSI2",
        "outputId": "a76d533c-48ff-47f0-e689-fc293b700e38"
      },
      "execution_count": null,
      "outputs": [
        {
          "output_type": "execute_result",
          "data": {
            "text/html": [
              "<div>\n",
              "<style scoped>\n",
              "    .dataframe tbody tr th:only-of-type {\n",
              "        vertical-align: middle;\n",
              "    }\n",
              "\n",
              "    .dataframe tbody tr th {\n",
              "        vertical-align: top;\n",
              "    }\n",
              "\n",
              "    .dataframe thead th {\n",
              "        text-align: right;\n",
              "    }\n",
              "</style>\n",
              "<table border=\"1\" class=\"dataframe\">\n",
              "  <thead>\n",
              "    <tr style=\"text-align: right;\">\n",
              "      <th></th>\n",
              "      <th>predicted_load</th>\n",
              "    </tr>\n",
              "    <tr>\n",
              "      <th>period</th>\n",
              "      <th></th>\n",
              "    </tr>\n",
              "  </thead>\n",
              "  <tbody>\n",
              "    <tr>\n",
              "      <th>2021-10-01</th>\n",
              "      <td>1.749870e+08</td>\n",
              "    </tr>\n",
              "    <tr>\n",
              "      <th>2021-11-01</th>\n",
              "      <td>1.546715e+08</td>\n",
              "    </tr>\n",
              "    <tr>\n",
              "      <th>2021-12-01</th>\n",
              "      <td>1.871823e+08</td>\n",
              "    </tr>\n",
              "    <tr>\n",
              "      <th>2022-01-01</th>\n",
              "      <td>1.894482e+08</td>\n",
              "    </tr>\n",
              "    <tr>\n",
              "      <th>2022-02-01</th>\n",
              "      <td>1.850701e+08</td>\n",
              "    </tr>\n",
              "    <tr>\n",
              "      <th>2022-03-01</th>\n",
              "      <td>1.538830e+08</td>\n",
              "    </tr>\n",
              "    <tr>\n",
              "      <th>2022-04-01</th>\n",
              "      <td>1.453097e+08</td>\n",
              "    </tr>\n",
              "    <tr>\n",
              "      <th>2022-05-01</th>\n",
              "      <td>1.613839e+08</td>\n",
              "    </tr>\n",
              "    <tr>\n",
              "      <th>2022-06-01</th>\n",
              "      <td>2.167698e+08</td>\n",
              "    </tr>\n",
              "    <tr>\n",
              "      <th>2022-07-01</th>\n",
              "      <td>2.506681e+08</td>\n",
              "    </tr>\n",
              "    <tr>\n",
              "      <th>2022-08-01</th>\n",
              "      <td>2.535384e+08</td>\n",
              "    </tr>\n",
              "    <tr>\n",
              "      <th>2022-09-01</th>\n",
              "      <td>1.988171e+08</td>\n",
              "    </tr>\n",
              "    <tr>\n",
              "      <th>2022-10-01</th>\n",
              "      <td>1.734991e+08</td>\n",
              "    </tr>\n",
              "    <tr>\n",
              "      <th>2022-11-01</th>\n",
              "      <td>1.528143e+08</td>\n",
              "    </tr>\n",
              "    <tr>\n",
              "      <th>2022-12-01</th>\n",
              "      <td>1.860198e+08</td>\n",
              "    </tr>\n",
              "    <tr>\n",
              "      <th>2023-01-01</th>\n",
              "      <td>1.884331e+08</td>\n",
              "    </tr>\n",
              "    <tr>\n",
              "      <th>2023-02-01</th>\n",
              "      <td>1.843365e+08</td>\n",
              "    </tr>\n",
              "    <tr>\n",
              "      <th>2023-03-01</th>\n",
              "      <td>1.525102e+08</td>\n",
              "    </tr>\n",
              "    <tr>\n",
              "      <th>2023-04-01</th>\n",
              "      <td>1.443643e+08</td>\n",
              "    </tr>\n",
              "    <tr>\n",
              "      <th>2023-05-01</th>\n",
              "      <td>1.605073e+08</td>\n",
              "    </tr>\n",
              "    <tr>\n",
              "      <th>2023-06-01</th>\n",
              "      <td>2.161959e+08</td>\n",
              "    </tr>\n",
              "    <tr>\n",
              "      <th>2023-07-01</th>\n",
              "      <td>2.492882e+08</td>\n",
              "    </tr>\n",
              "    <tr>\n",
              "      <th>2023-08-01</th>\n",
              "      <td>2.524600e+08</td>\n",
              "    </tr>\n",
              "    <tr>\n",
              "      <th>2023-09-01</th>\n",
              "      <td>1.977523e+08</td>\n",
              "    </tr>\n",
              "    <tr>\n",
              "      <th>2023-10-01</th>\n",
              "      <td>1.722214e+08</td>\n",
              "    </tr>\n",
              "    <tr>\n",
              "      <th>2023-11-01</th>\n",
              "      <td>1.515028e+08</td>\n",
              "    </tr>\n",
              "    <tr>\n",
              "      <th>2023-12-01</th>\n",
              "      <td>1.847084e+08</td>\n",
              "    </tr>\n",
              "    <tr>\n",
              "      <th>2024-01-01</th>\n",
              "      <td>1.871216e+08</td>\n",
              "    </tr>\n",
              "    <tr>\n",
              "      <th>2024-02-01</th>\n",
              "      <td>1.830251e+08</td>\n",
              "    </tr>\n",
              "    <tr>\n",
              "      <th>2024-03-01</th>\n",
              "      <td>1.511987e+08</td>\n",
              "    </tr>\n",
              "    <tr>\n",
              "      <th>2024-04-01</th>\n",
              "      <td>1.430528e+08</td>\n",
              "    </tr>\n",
              "    <tr>\n",
              "      <th>2024-05-01</th>\n",
              "      <td>1.591959e+08</td>\n",
              "    </tr>\n",
              "    <tr>\n",
              "      <th>2024-06-01</th>\n",
              "      <td>2.148844e+08</td>\n",
              "    </tr>\n",
              "    <tr>\n",
              "      <th>2024-07-01</th>\n",
              "      <td>2.479767e+08</td>\n",
              "    </tr>\n",
              "    <tr>\n",
              "      <th>2024-08-01</th>\n",
              "      <td>2.511485e+08</td>\n",
              "    </tr>\n",
              "    <tr>\n",
              "      <th>2024-09-01</th>\n",
              "      <td>1.964408e+08</td>\n",
              "    </tr>\n",
              "    <tr>\n",
              "      <th>2024-10-01</th>\n",
              "      <td>1.709099e+08</td>\n",
              "    </tr>\n",
              "    <tr>\n",
              "      <th>2024-11-01</th>\n",
              "      <td>1.501913e+08</td>\n",
              "    </tr>\n",
              "    <tr>\n",
              "      <th>2024-12-01</th>\n",
              "      <td>1.833969e+08</td>\n",
              "    </tr>\n",
              "    <tr>\n",
              "      <th>2025-01-01</th>\n",
              "      <td>1.858102e+08</td>\n",
              "    </tr>\n",
              "    <tr>\n",
              "      <th>2025-02-01</th>\n",
              "      <td>1.817136e+08</td>\n",
              "    </tr>\n",
              "    <tr>\n",
              "      <th>2025-03-01</th>\n",
              "      <td>1.498872e+08</td>\n",
              "    </tr>\n",
              "    <tr>\n",
              "      <th>2025-04-01</th>\n",
              "      <td>1.417414e+08</td>\n",
              "    </tr>\n",
              "    <tr>\n",
              "      <th>2025-05-01</th>\n",
              "      <td>1.578844e+08</td>\n",
              "    </tr>\n",
              "    <tr>\n",
              "      <th>2025-06-01</th>\n",
              "      <td>2.135730e+08</td>\n",
              "    </tr>\n",
              "    <tr>\n",
              "      <th>2025-07-01</th>\n",
              "      <td>2.466652e+08</td>\n",
              "    </tr>\n",
              "    <tr>\n",
              "      <th>2025-08-01</th>\n",
              "      <td>2.498370e+08</td>\n",
              "    </tr>\n",
              "    <tr>\n",
              "      <th>2025-09-01</th>\n",
              "      <td>1.951294e+08</td>\n",
              "    </tr>\n",
              "    <tr>\n",
              "      <th>2025-10-01</th>\n",
              "      <td>1.695984e+08</td>\n",
              "    </tr>\n",
              "    <tr>\n",
              "      <th>2025-11-01</th>\n",
              "      <td>1.488798e+08</td>\n",
              "    </tr>\n",
              "    <tr>\n",
              "      <th>2025-12-01</th>\n",
              "      <td>1.820854e+08</td>\n",
              "    </tr>\n",
              "  </tbody>\n",
              "</table>\n",
              "</div>"
            ],
            "text/plain": [
              "            predicted_load\n",
              "period                    \n",
              "2021-10-01    1.749870e+08\n",
              "2021-11-01    1.546715e+08\n",
              "2021-12-01    1.871823e+08\n",
              "2022-01-01    1.894482e+08\n",
              "2022-02-01    1.850701e+08\n",
              "2022-03-01    1.538830e+08\n",
              "2022-04-01    1.453097e+08\n",
              "2022-05-01    1.613839e+08\n",
              "2022-06-01    2.167698e+08\n",
              "2022-07-01    2.506681e+08\n",
              "2022-08-01    2.535384e+08\n",
              "2022-09-01    1.988171e+08\n",
              "2022-10-01    1.734991e+08\n",
              "2022-11-01    1.528143e+08\n",
              "2022-12-01    1.860198e+08\n",
              "2023-01-01    1.884331e+08\n",
              "2023-02-01    1.843365e+08\n",
              "2023-03-01    1.525102e+08\n",
              "2023-04-01    1.443643e+08\n",
              "2023-05-01    1.605073e+08\n",
              "2023-06-01    2.161959e+08\n",
              "2023-07-01    2.492882e+08\n",
              "2023-08-01    2.524600e+08\n",
              "2023-09-01    1.977523e+08\n",
              "2023-10-01    1.722214e+08\n",
              "2023-11-01    1.515028e+08\n",
              "2023-12-01    1.847084e+08\n",
              "2024-01-01    1.871216e+08\n",
              "2024-02-01    1.830251e+08\n",
              "2024-03-01    1.511987e+08\n",
              "2024-04-01    1.430528e+08\n",
              "2024-05-01    1.591959e+08\n",
              "2024-06-01    2.148844e+08\n",
              "2024-07-01    2.479767e+08\n",
              "2024-08-01    2.511485e+08\n",
              "2024-09-01    1.964408e+08\n",
              "2024-10-01    1.709099e+08\n",
              "2024-11-01    1.501913e+08\n",
              "2024-12-01    1.833969e+08\n",
              "2025-01-01    1.858102e+08\n",
              "2025-02-01    1.817136e+08\n",
              "2025-03-01    1.498872e+08\n",
              "2025-04-01    1.417414e+08\n",
              "2025-05-01    1.578844e+08\n",
              "2025-06-01    2.135730e+08\n",
              "2025-07-01    2.466652e+08\n",
              "2025-08-01    2.498370e+08\n",
              "2025-09-01    1.951294e+08\n",
              "2025-10-01    1.695984e+08\n",
              "2025-11-01    1.488798e+08\n",
              "2025-12-01    1.820854e+08"
            ]
          },
          "metadata": {},
          "execution_count": 32
        }
      ]
    },
    {
      "cell_type": "code",
      "source": [
        "emissions_month_level_load[\"year\"] = pd.DatetimeIndex(emissions_month_level_load.index).year\n",
        "\n",
        "emissions_month_level_load.year = \"01-01-\" + emissions_month_level_load.year.astype(str) \n",
        "emissions_month_level_load.year = pd.DatetimeIndex(emissions_month_level_load.year.astype(str))\n",
        "emissions_month_level_load.info()"
      ],
      "metadata": {
        "colab": {
          "base_uri": "https://localhost:8080/"
        },
        "id": "-2UjotDGQ8io",
        "outputId": "d79a5eb7-5c41-40cd-9412-764f515eae48"
      },
      "execution_count": null,
      "outputs": [
        {
          "output_type": "stream",
          "name": "stdout",
          "text": [
            "<class 'pandas.core.frame.DataFrame'>\n",
            "DatetimeIndex: 201 entries, 2005-01-01 to 2021-09-01\n",
            "Data columns (total 2 columns):\n",
            " #   Column             Non-Null Count  Dtype         \n",
            "---  ------             --------------  -----         \n",
            " 0   Gross Load (MW-h)  201 non-null    float64       \n",
            " 1   year               201 non-null    datetime64[ns]\n",
            "dtypes: datetime64[ns](1), float64(1)\n",
            "memory usage: 4.7 KB\n"
          ]
        }
      ]
    },
    {
      "cell_type": "code",
      "source": [
        "emissions_month_level_load_yrly_sum = emissions_month_level_load[['Gross Load (MW-h)','year']].groupby(by = 'year').sum()\n",
        "emissions_month_level_load_yrly_sum"
      ],
      "metadata": {
        "colab": {
          "base_uri": "https://localhost:8080/",
          "height": 614
        },
        "id": "oWK2wSGUQ7JG",
        "outputId": "e3a833ec-bf1f-407e-be96-3b1d992b4562"
      },
      "execution_count": null,
      "outputs": [
        {
          "output_type": "execute_result",
          "data": {
            "text/html": [
              "<div>\n",
              "<style scoped>\n",
              "    .dataframe tbody tr th:only-of-type {\n",
              "        vertical-align: middle;\n",
              "    }\n",
              "\n",
              "    .dataframe tbody tr th {\n",
              "        vertical-align: top;\n",
              "    }\n",
              "\n",
              "    .dataframe thead th {\n",
              "        text-align: right;\n",
              "    }\n",
              "</style>\n",
              "<table border=\"1\" class=\"dataframe\">\n",
              "  <thead>\n",
              "    <tr style=\"text-align: right;\">\n",
              "      <th></th>\n",
              "      <th>Gross Load (MW-h)</th>\n",
              "    </tr>\n",
              "    <tr>\n",
              "      <th>year</th>\n",
              "      <th></th>\n",
              "    </tr>\n",
              "  </thead>\n",
              "  <tbody>\n",
              "    <tr>\n",
              "      <th>2005-01-01</th>\n",
              "      <td>2.624275e+09</td>\n",
              "    </tr>\n",
              "    <tr>\n",
              "      <th>2006-01-01</th>\n",
              "      <td>2.604200e+09</td>\n",
              "    </tr>\n",
              "    <tr>\n",
              "      <th>2007-01-01</th>\n",
              "      <td>2.710165e+09</td>\n",
              "    </tr>\n",
              "    <tr>\n",
              "      <th>2008-01-01</th>\n",
              "      <td>2.657396e+09</td>\n",
              "    </tr>\n",
              "    <tr>\n",
              "      <th>2009-01-01</th>\n",
              "      <td>2.487896e+09</td>\n",
              "    </tr>\n",
              "    <tr>\n",
              "      <th>2010-01-01</th>\n",
              "      <td>2.638881e+09</td>\n",
              "    </tr>\n",
              "    <tr>\n",
              "      <th>2011-01-01</th>\n",
              "      <td>2.558044e+09</td>\n",
              "    </tr>\n",
              "    <tr>\n",
              "      <th>2012-01-01</th>\n",
              "      <td>2.526484e+09</td>\n",
              "    </tr>\n",
              "    <tr>\n",
              "      <th>2013-01-01</th>\n",
              "      <td>2.525311e+09</td>\n",
              "    </tr>\n",
              "    <tr>\n",
              "      <th>2014-01-01</th>\n",
              "      <td>2.530722e+09</td>\n",
              "    </tr>\n",
              "    <tr>\n",
              "      <th>2015-01-01</th>\n",
              "      <td>2.489555e+09</td>\n",
              "    </tr>\n",
              "    <tr>\n",
              "      <th>2016-01-01</th>\n",
              "      <td>2.420662e+09</td>\n",
              "    </tr>\n",
              "    <tr>\n",
              "      <th>2017-01-01</th>\n",
              "      <td>2.330269e+09</td>\n",
              "    </tr>\n",
              "    <tr>\n",
              "      <th>2018-01-01</th>\n",
              "      <td>2.442546e+09</td>\n",
              "    </tr>\n",
              "    <tr>\n",
              "      <th>2019-01-01</th>\n",
              "      <td>2.353912e+09</td>\n",
              "    </tr>\n",
              "    <tr>\n",
              "      <th>2020-01-01</th>\n",
              "      <td>2.198191e+09</td>\n",
              "    </tr>\n",
              "    <tr>\n",
              "      <th>2021-01-01</th>\n",
              "      <td>1.773411e+09</td>\n",
              "    </tr>\n",
              "  </tbody>\n",
              "</table>\n",
              "</div>"
            ],
            "text/plain": [
              "            Gross Load (MW-h)\n",
              "year                         \n",
              "2005-01-01       2.624275e+09\n",
              "2006-01-01       2.604200e+09\n",
              "2007-01-01       2.710165e+09\n",
              "2008-01-01       2.657396e+09\n",
              "2009-01-01       2.487896e+09\n",
              "2010-01-01       2.638881e+09\n",
              "2011-01-01       2.558044e+09\n",
              "2012-01-01       2.526484e+09\n",
              "2013-01-01       2.525311e+09\n",
              "2014-01-01       2.530722e+09\n",
              "2015-01-01       2.489555e+09\n",
              "2016-01-01       2.420662e+09\n",
              "2017-01-01       2.330269e+09\n",
              "2018-01-01       2.442546e+09\n",
              "2019-01-01       2.353912e+09\n",
              "2020-01-01       2.198191e+09\n",
              "2021-01-01       1.773411e+09"
            ]
          },
          "metadata": {},
          "execution_count": 34
        }
      ]
    },
    {
      "cell_type": "code",
      "source": [
        "prediction_load[\"year\"] = pd.DatetimeIndex(prediction_load.index).year\n",
        "\n",
        "prediction_load.year = \"01-01-\" + prediction_load.year.astype(str) \n",
        "prediction_load.year = pd.DatetimeIndex(prediction_load.year.astype(str))\n"
      ],
      "metadata": {
        "id": "GF4LHbvyGQ1l"
      },
      "execution_count": null,
      "outputs": []
    },
    {
      "cell_type": "code",
      "source": [
        "prediction_load_yrly_sum = prediction_load[['predicted_load','year']].groupby(by = 'year').sum()\n",
        "prediction_load_yrly_sum.head()"
      ],
      "metadata": {
        "colab": {
          "base_uri": "https://localhost:8080/",
          "height": 238
        },
        "id": "ALDLKT03KEl4",
        "outputId": "f3d59475-9e04-4c5e-ca54-1002d3d258a6"
      },
      "execution_count": null,
      "outputs": [
        {
          "output_type": "execute_result",
          "data": {
            "text/html": [
              "<div>\n",
              "<style scoped>\n",
              "    .dataframe tbody tr th:only-of-type {\n",
              "        vertical-align: middle;\n",
              "    }\n",
              "\n",
              "    .dataframe tbody tr th {\n",
              "        vertical-align: top;\n",
              "    }\n",
              "\n",
              "    .dataframe thead th {\n",
              "        text-align: right;\n",
              "    }\n",
              "</style>\n",
              "<table border=\"1\" class=\"dataframe\">\n",
              "  <thead>\n",
              "    <tr style=\"text-align: right;\">\n",
              "      <th></th>\n",
              "      <th>predicted_load</th>\n",
              "    </tr>\n",
              "    <tr>\n",
              "      <th>year</th>\n",
              "      <th></th>\n",
              "    </tr>\n",
              "  </thead>\n",
              "  <tbody>\n",
              "    <tr>\n",
              "      <th>2021-01-01</th>\n",
              "      <td>5.168407e+08</td>\n",
              "    </tr>\n",
              "    <tr>\n",
              "      <th>2022-01-01</th>\n",
              "      <td>2.267222e+09</td>\n",
              "    </tr>\n",
              "    <tr>\n",
              "      <th>2023-01-01</th>\n",
              "      <td>2.254280e+09</td>\n",
              "    </tr>\n",
              "    <tr>\n",
              "      <th>2024-01-01</th>\n",
              "      <td>2.238543e+09</td>\n",
              "    </tr>\n",
              "    <tr>\n",
              "      <th>2025-01-01</th>\n",
              "      <td>2.222805e+09</td>\n",
              "    </tr>\n",
              "  </tbody>\n",
              "</table>\n",
              "</div>"
            ],
            "text/plain": [
              "            predicted_load\n",
              "year                      \n",
              "2021-01-01    5.168407e+08\n",
              "2022-01-01    2.267222e+09\n",
              "2023-01-01    2.254280e+09\n",
              "2024-01-01    2.238543e+09\n",
              "2025-01-01    2.222805e+09"
            ]
          },
          "metadata": {},
          "execution_count": 36
        }
      ]
    },
    {
      "cell_type": "code",
      "source": [
        "load_2021 = prediction_load_yrly_sum[0:1]['predicted_load'].item() + emissions_month_level_load_yrly_sum[-1:]['Gross Load (MW-h)'].item()\n",
        "\n",
        "prediction_load_yrly_sum[0:1]['predicted_load'] = load_2021\n",
        "prediction_load_yrly_sum"
      ],
      "metadata": {
        "colab": {
          "base_uri": "https://localhost:8080/",
          "height": 342
        },
        "id": "kb1m2ZHRRyNy",
        "outputId": "28fbff74-d137-47d8-f809-0f0eb6ddbaac"
      },
      "execution_count": null,
      "outputs": [
        {
          "output_type": "stream",
          "name": "stderr",
          "text": [
            "/usr/local/lib/python3.7/dist-packages/ipykernel_launcher.py:3: SettingWithCopyWarning: \n",
            "A value is trying to be set on a copy of a slice from a DataFrame.\n",
            "Try using .loc[row_indexer,col_indexer] = value instead\n",
            "\n",
            "See the caveats in the documentation: https://pandas.pydata.org/pandas-docs/stable/user_guide/indexing.html#returning-a-view-versus-a-copy\n",
            "  This is separate from the ipykernel package so we can avoid doing imports until\n"
          ]
        },
        {
          "output_type": "execute_result",
          "data": {
            "text/html": [
              "<div>\n",
              "<style scoped>\n",
              "    .dataframe tbody tr th:only-of-type {\n",
              "        vertical-align: middle;\n",
              "    }\n",
              "\n",
              "    .dataframe tbody tr th {\n",
              "        vertical-align: top;\n",
              "    }\n",
              "\n",
              "    .dataframe thead th {\n",
              "        text-align: right;\n",
              "    }\n",
              "</style>\n",
              "<table border=\"1\" class=\"dataframe\">\n",
              "  <thead>\n",
              "    <tr style=\"text-align: right;\">\n",
              "      <th></th>\n",
              "      <th>predicted_load</th>\n",
              "    </tr>\n",
              "    <tr>\n",
              "      <th>year</th>\n",
              "      <th></th>\n",
              "    </tr>\n",
              "  </thead>\n",
              "  <tbody>\n",
              "    <tr>\n",
              "      <th>2021-01-01</th>\n",
              "      <td>2.290252e+09</td>\n",
              "    </tr>\n",
              "    <tr>\n",
              "      <th>2022-01-01</th>\n",
              "      <td>2.267222e+09</td>\n",
              "    </tr>\n",
              "    <tr>\n",
              "      <th>2023-01-01</th>\n",
              "      <td>2.254280e+09</td>\n",
              "    </tr>\n",
              "    <tr>\n",
              "      <th>2024-01-01</th>\n",
              "      <td>2.238543e+09</td>\n",
              "    </tr>\n",
              "    <tr>\n",
              "      <th>2025-01-01</th>\n",
              "      <td>2.222805e+09</td>\n",
              "    </tr>\n",
              "  </tbody>\n",
              "</table>\n",
              "</div>"
            ],
            "text/plain": [
              "            predicted_load\n",
              "year                      \n",
              "2021-01-01    2.290252e+09\n",
              "2022-01-01    2.267222e+09\n",
              "2023-01-01    2.254280e+09\n",
              "2024-01-01    2.238543e+09\n",
              "2025-01-01    2.222805e+09"
            ]
          },
          "metadata": {},
          "execution_count": 37
        }
      ]
    },
    {
      "cell_type": "code",
      "source": [
        "emissions_month_level_load_yrly_sum[-1:]['Gross Load (MW-h)'] = load_2021\n",
        "emissions_month_level_load_yrly_sum[-1:]"
      ],
      "metadata": {
        "colab": {
          "base_uri": "https://localhost:8080/",
          "height": 216
        },
        "id": "x34r9MiDSRRo",
        "outputId": "504eaeec-6e50-4eac-b332-5600b473e48a"
      },
      "execution_count": null,
      "outputs": [
        {
          "output_type": "stream",
          "name": "stderr",
          "text": [
            "/usr/local/lib/python3.7/dist-packages/ipykernel_launcher.py:1: SettingWithCopyWarning: \n",
            "A value is trying to be set on a copy of a slice from a DataFrame.\n",
            "Try using .loc[row_indexer,col_indexer] = value instead\n",
            "\n",
            "See the caveats in the documentation: https://pandas.pydata.org/pandas-docs/stable/user_guide/indexing.html#returning-a-view-versus-a-copy\n",
            "  \"\"\"Entry point for launching an IPython kernel.\n"
          ]
        },
        {
          "output_type": "execute_result",
          "data": {
            "text/html": [
              "<div>\n",
              "<style scoped>\n",
              "    .dataframe tbody tr th:only-of-type {\n",
              "        vertical-align: middle;\n",
              "    }\n",
              "\n",
              "    .dataframe tbody tr th {\n",
              "        vertical-align: top;\n",
              "    }\n",
              "\n",
              "    .dataframe thead th {\n",
              "        text-align: right;\n",
              "    }\n",
              "</style>\n",
              "<table border=\"1\" class=\"dataframe\">\n",
              "  <thead>\n",
              "    <tr style=\"text-align: right;\">\n",
              "      <th></th>\n",
              "      <th>Gross Load (MW-h)</th>\n",
              "    </tr>\n",
              "    <tr>\n",
              "      <th>year</th>\n",
              "      <th></th>\n",
              "    </tr>\n",
              "  </thead>\n",
              "  <tbody>\n",
              "    <tr>\n",
              "      <th>2021-01-01</th>\n",
              "      <td>2.290252e+09</td>\n",
              "    </tr>\n",
              "  </tbody>\n",
              "</table>\n",
              "</div>"
            ],
            "text/plain": [
              "            Gross Load (MW-h)\n",
              "year                         \n",
              "2021-01-01       2.290252e+09"
            ]
          },
          "metadata": {},
          "execution_count": 38
        }
      ]
    },
    {
      "cell_type": "code",
      "source": [
        "import matplotlib.pyplot as plt\n",
        "plt.style.use(['dark_background'])\n",
        "from matplotlib.pyplot import text\n",
        "print(plt.style.available)"
      ],
      "metadata": {
        "colab": {
          "base_uri": "https://localhost:8080/"
        },
        "id": "tLivvf32L2TX",
        "outputId": "2c38c61d-c7b5-4d4b-d30d-d7cdddeedc61"
      },
      "execution_count": null,
      "outputs": [
        {
          "output_type": "stream",
          "name": "stdout",
          "text": [
            "['Solarize_Light2', '_classic_test_patch', 'bmh', 'classic', 'dark_background', 'fast', 'fivethirtyeight', 'ggplot', 'grayscale', 'seaborn', 'seaborn-bright', 'seaborn-colorblind', 'seaborn-dark', 'seaborn-dark-palette', 'seaborn-darkgrid', 'seaborn-deep', 'seaborn-muted', 'seaborn-notebook', 'seaborn-paper', 'seaborn-pastel', 'seaborn-poster', 'seaborn-talk', 'seaborn-ticks', 'seaborn-white', 'seaborn-whitegrid', 'tableau-colorblind10']\n"
          ]
        }
      ]
    },
    {
      "cell_type": "code",
      "source": [
        "# plotting for different scenarios\n",
        "\n",
        "scenarios = pd.read_csv(\"drive/MyDrive/PUI_project_Fall_2021/All_Data/Emission_scenario.csv\",index_col=None)\n",
        "scenarios\n"
      ],
      "metadata": {
        "colab": {
          "base_uri": "https://localhost:8080/",
          "height": 175
        },
        "id": "EXmyG7Qgw7Yu",
        "outputId": "f109a423-2afd-414b-b0e0-ca21317deb47"
      },
      "execution_count": null,
      "outputs": [
        {
          "output_type": "execute_result",
          "data": {
            "text/html": [
              "<div>\n",
              "<style scoped>\n",
              "    .dataframe tbody tr th:only-of-type {\n",
              "        vertical-align: middle;\n",
              "    }\n",
              "\n",
              "    .dataframe tbody tr th {\n",
              "        vertical-align: top;\n",
              "    }\n",
              "\n",
              "    .dataframe thead th {\n",
              "        text-align: right;\n",
              "    }\n",
              "</style>\n",
              "<table border=\"1\" class=\"dataframe\">\n",
              "  <thead>\n",
              "    <tr style=\"text-align: right;\">\n",
              "      <th></th>\n",
              "      <th>scenario</th>\n",
              "      <th>emissions in mWh</th>\n",
              "    </tr>\n",
              "  </thead>\n",
              "  <tbody>\n",
              "    <tr>\n",
              "      <th>0</th>\n",
              "      <td>All_naturalGas</td>\n",
              "      <td>3.278737e+08</td>\n",
              "    </tr>\n",
              "    <tr>\n",
              "      <th>1</th>\n",
              "      <td>Coal_naturalGas</td>\n",
              "      <td>5.656721e+08</td>\n",
              "    </tr>\n",
              "    <tr>\n",
              "      <th>2</th>\n",
              "      <td>Coal_petroleum</td>\n",
              "      <td>7.854556e+08</td>\n",
              "    </tr>\n",
              "    <tr>\n",
              "      <th>3</th>\n",
              "      <td>Coal_renewable</td>\n",
              "      <td>4.017353e+08</td>\n",
              "    </tr>\n",
              "  </tbody>\n",
              "</table>\n",
              "</div>"
            ],
            "text/plain": [
              "          scenario  emissions in mWh\n",
              "0   All_naturalGas      3.278737e+08\n",
              "1  Coal_naturalGas      5.656721e+08\n",
              "2   Coal_petroleum      7.854556e+08\n",
              "3   Coal_renewable      4.017353e+08"
            ]
          },
          "metadata": {},
          "execution_count": 40
        }
      ]
    },
    {
      "cell_type": "code",
      "source": [
        "prediction_CO2_2025_scenario = prediction_CO2_yrly_sum.copy()"
      ],
      "metadata": {
        "id": "QUBZLSlIOFmb"
      },
      "execution_count": null,
      "outputs": []
    },
    {
      "cell_type": "code",
      "source": [
        "prediction_CO2_2025_scenario"
      ],
      "metadata": {
        "colab": {
          "base_uri": "https://localhost:8080/",
          "height": 238
        },
        "id": "871Nf8zcO0yl",
        "outputId": "dcf396ca-1dcc-4479-998a-03d2962a11b7"
      },
      "execution_count": null,
      "outputs": [
        {
          "output_type": "execute_result",
          "data": {
            "text/html": [
              "<div>\n",
              "<style scoped>\n",
              "    .dataframe tbody tr th:only-of-type {\n",
              "        vertical-align: middle;\n",
              "    }\n",
              "\n",
              "    .dataframe tbody tr th {\n",
              "        vertical-align: top;\n",
              "    }\n",
              "\n",
              "    .dataframe thead th {\n",
              "        text-align: right;\n",
              "    }\n",
              "</style>\n",
              "<table border=\"1\" class=\"dataframe\">\n",
              "  <thead>\n",
              "    <tr style=\"text-align: right;\">\n",
              "      <th></th>\n",
              "      <th>predicted_emissions</th>\n",
              "    </tr>\n",
              "    <tr>\n",
              "      <th>year</th>\n",
              "      <th></th>\n",
              "    </tr>\n",
              "  </thead>\n",
              "  <tbody>\n",
              "    <tr>\n",
              "      <th>2021-01-01</th>\n",
              "      <td>1.623527e+09</td>\n",
              "    </tr>\n",
              "    <tr>\n",
              "      <th>2022-01-01</th>\n",
              "      <td>1.571973e+09</td>\n",
              "    </tr>\n",
              "    <tr>\n",
              "      <th>2023-01-01</th>\n",
              "      <td>1.531869e+09</td>\n",
              "    </tr>\n",
              "    <tr>\n",
              "      <th>2024-01-01</th>\n",
              "      <td>1.491014e+09</td>\n",
              "    </tr>\n",
              "    <tr>\n",
              "      <th>2025-01-01</th>\n",
              "      <td>1.450208e+09</td>\n",
              "    </tr>\n",
              "  </tbody>\n",
              "</table>\n",
              "</div>"
            ],
            "text/plain": [
              "            predicted_emissions\n",
              "year                           \n",
              "2021-01-01         1.623527e+09\n",
              "2022-01-01         1.571973e+09\n",
              "2023-01-01         1.531869e+09\n",
              "2024-01-01         1.491014e+09\n",
              "2025-01-01         1.450208e+09"
            ]
          },
          "metadata": {},
          "execution_count": 58
        }
      ]
    },
    {
      "cell_type": "code",
      "source": [
        "prediction_CO2_2025_scenario = prediction_CO2_2025_scenario[0:5:4]"
      ],
      "metadata": {
        "id": "apuGjgIwAKha"
      },
      "execution_count": null,
      "outputs": []
    },
    {
      "cell_type": "code",
      "source": [
        "prediction_CO2_2025_scenario"
      ],
      "metadata": {
        "colab": {
          "base_uri": "https://localhost:8080/",
          "height": 143
        },
        "id": "2RH9VLzDO7Y2",
        "outputId": "fa7a60b1-c9b1-4aff-92f6-91c5ee86b918"
      },
      "execution_count": null,
      "outputs": [
        {
          "output_type": "execute_result",
          "data": {
            "text/html": [
              "<div>\n",
              "<style scoped>\n",
              "    .dataframe tbody tr th:only-of-type {\n",
              "        vertical-align: middle;\n",
              "    }\n",
              "\n",
              "    .dataframe tbody tr th {\n",
              "        vertical-align: top;\n",
              "    }\n",
              "\n",
              "    .dataframe thead th {\n",
              "        text-align: right;\n",
              "    }\n",
              "</style>\n",
              "<table border=\"1\" class=\"dataframe\">\n",
              "  <thead>\n",
              "    <tr style=\"text-align: right;\">\n",
              "      <th></th>\n",
              "      <th>predicted_emissions</th>\n",
              "    </tr>\n",
              "    <tr>\n",
              "      <th>year</th>\n",
              "      <th></th>\n",
              "    </tr>\n",
              "  </thead>\n",
              "  <tbody>\n",
              "    <tr>\n",
              "      <th>2021-01-01</th>\n",
              "      <td>1.623527e+09</td>\n",
              "    </tr>\n",
              "    <tr>\n",
              "      <th>2025-01-01</th>\n",
              "      <td>1.450208e+09</td>\n",
              "    </tr>\n",
              "  </tbody>\n",
              "</table>\n",
              "</div>"
            ],
            "text/plain": [
              "            predicted_emissions\n",
              "year                           \n",
              "2021-01-01         1.623527e+09\n",
              "2025-01-01         1.450208e+09"
            ]
          },
          "metadata": {},
          "execution_count": 60
        }
      ]
    },
    {
      "cell_type": "code",
      "source": [
        "prediction_CO2_2025_scenario = prediction_CO2_2025_scenario.rename(columns = {\"predicted_emissions\" : \"Business\" })"
      ],
      "metadata": {
        "id": "mDvzhII4_yh5"
      },
      "execution_count": null,
      "outputs": []
    },
    {
      "cell_type": "code",
      "source": [
        "prediction_CO2_2025_scenario"
      ],
      "metadata": {
        "colab": {
          "base_uri": "https://localhost:8080/",
          "height": 143
        },
        "id": "eqKtNmTMBA_n",
        "outputId": "f0f4bcf1-72b1-4ec7-adde-17a208c3a2e5"
      },
      "execution_count": null,
      "outputs": [
        {
          "output_type": "execute_result",
          "data": {
            "text/html": [
              "<div>\n",
              "<style scoped>\n",
              "    .dataframe tbody tr th:only-of-type {\n",
              "        vertical-align: middle;\n",
              "    }\n",
              "\n",
              "    .dataframe tbody tr th {\n",
              "        vertical-align: top;\n",
              "    }\n",
              "\n",
              "    .dataframe thead th {\n",
              "        text-align: right;\n",
              "    }\n",
              "</style>\n",
              "<table border=\"1\" class=\"dataframe\">\n",
              "  <thead>\n",
              "    <tr style=\"text-align: right;\">\n",
              "      <th></th>\n",
              "      <th>Business</th>\n",
              "    </tr>\n",
              "    <tr>\n",
              "      <th>year</th>\n",
              "      <th></th>\n",
              "    </tr>\n",
              "  </thead>\n",
              "  <tbody>\n",
              "    <tr>\n",
              "      <th>2021-01-01</th>\n",
              "      <td>1.623527e+09</td>\n",
              "    </tr>\n",
              "    <tr>\n",
              "      <th>2025-01-01</th>\n",
              "      <td>1.450208e+09</td>\n",
              "    </tr>\n",
              "  </tbody>\n",
              "</table>\n",
              "</div>"
            ],
            "text/plain": [
              "                Business\n",
              "year                    \n",
              "2021-01-01  1.623527e+09\n",
              "2025-01-01  1.450208e+09"
            ]
          },
          "metadata": {},
          "execution_count": 63
        }
      ]
    },
    {
      "cell_type": "code",
      "source": [
        "prediction_CO2_2025_scenario[\"all renewable\"] = 0\n",
        "prediction_CO2_2025_scenario[\"all renewable\"][-1:] = (prediction_CO2_2025_scenario[\"Business\"][-1:].item())*0.6\n",
        "prediction_CO2_2025_scenario[\"all renewable\"][0:1] = prediction_CO2_2025_scenario[\"Business\"][0:1].item()\n"
      ],
      "metadata": {
        "colab": {
          "base_uri": "https://localhost:8080/"
        },
        "id": "1DOC_kGHAZKF",
        "outputId": "aacecf92-61d3-45db-af36-4c792bee56b1"
      },
      "execution_count": null,
      "outputs": [
        {
          "output_type": "stream",
          "name": "stderr",
          "text": [
            "/usr/local/lib/python3.7/dist-packages/ipykernel_launcher.py:2: SettingWithCopyWarning: \n",
            "A value is trying to be set on a copy of a slice from a DataFrame\n",
            "\n",
            "See the caveats in the documentation: https://pandas.pydata.org/pandas-docs/stable/user_guide/indexing.html#returning-a-view-versus-a-copy\n",
            "  \n"
          ]
        }
      ]
    },
    {
      "cell_type": "code",
      "source": [
        "# all natural gas\n",
        "\n",
        "prediction_CO2_2025_scenario[\"all natural\"] = 0\n",
        "prediction_CO2_2025_scenario[\"all natural\"][-1:] = (prediction_CO2_2025_scenario[\"Business\"][-1:].item())*0.6 + scenarios['emissions in mWh'][0:1].item()\n",
        "prediction_CO2_2025_scenario[\"all natural\"][0:1] = prediction_CO2_2025_scenario[\"Business\"][0:1].item()\n"
      ],
      "metadata": {
        "colab": {
          "base_uri": "https://localhost:8080/"
        },
        "id": "YIhMgC9SBzvK",
        "outputId": "9e298a7f-0548-4268-b3bc-2496d9d719a7"
      },
      "execution_count": null,
      "outputs": [
        {
          "output_type": "stream",
          "name": "stderr",
          "text": [
            "/usr/local/lib/python3.7/dist-packages/ipykernel_launcher.py:4: SettingWithCopyWarning: \n",
            "A value is trying to be set on a copy of a slice from a DataFrame\n",
            "\n",
            "See the caveats in the documentation: https://pandas.pydata.org/pandas-docs/stable/user_guide/indexing.html#returning-a-view-versus-a-copy\n",
            "  after removing the cwd from sys.path.\n"
          ]
        }
      ]
    },
    {
      "cell_type": "code",
      "source": [
        "scenarios['emissions in mWh'][1:2]"
      ],
      "metadata": {
        "colab": {
          "base_uri": "https://localhost:8080/"
        },
        "id": "t6QF0YoYJDfK",
        "outputId": "e4c2f567-ddbb-46c2-a3cc-ba161305d515"
      },
      "execution_count": null,
      "outputs": [
        {
          "output_type": "execute_result",
          "data": {
            "text/plain": [
              "1    5.656721e+08\n",
              "Name: emissions in mWh, dtype: float64"
            ]
          },
          "metadata": {},
          "execution_count": 66
        }
      ]
    },
    {
      "cell_type": "code",
      "source": [
        "# 50% natural gas\n",
        "\n",
        "prediction_CO2_2025_scenario[\"50% natural\"] = 0\n",
        "prediction_CO2_2025_scenario[\"50% natural\"][-1:] = (prediction_CO2_2025_scenario[\"Business\"][-1:].item())*0.6 + scenarios['emissions in mWh'][1:2].item()\n",
        "prediction_CO2_2025_scenario[\"50% natural\"][0:1] = prediction_CO2_2025_scenario[\"Business\"][0:1].item()\n"
      ],
      "metadata": {
        "colab": {
          "base_uri": "https://localhost:8080/"
        },
        "id": "QCCpO9leIsAx",
        "outputId": "42385791-8a94-4967-9ce0-0fcb50f8fac9"
      },
      "execution_count": null,
      "outputs": [
        {
          "output_type": "stream",
          "name": "stderr",
          "text": [
            "/usr/local/lib/python3.7/dist-packages/ipykernel_launcher.py:4: SettingWithCopyWarning: \n",
            "A value is trying to be set on a copy of a slice from a DataFrame\n",
            "\n",
            "See the caveats in the documentation: https://pandas.pydata.org/pandas-docs/stable/user_guide/indexing.html#returning-a-view-versus-a-copy\n",
            "  after removing the cwd from sys.path.\n"
          ]
        }
      ]
    },
    {
      "cell_type": "code",
      "source": [
        "prediction_CO2_2025_scenario"
      ],
      "metadata": {
        "colab": {
          "base_uri": "https://localhost:8080/",
          "height": 143
        },
        "id": "EE2YJO7YJMj4",
        "outputId": "c269b147-0930-4cb2-95e3-7eda9b1d6abc"
      },
      "execution_count": null,
      "outputs": [
        {
          "output_type": "execute_result",
          "data": {
            "text/html": [
              "<div>\n",
              "<style scoped>\n",
              "    .dataframe tbody tr th:only-of-type {\n",
              "        vertical-align: middle;\n",
              "    }\n",
              "\n",
              "    .dataframe tbody tr th {\n",
              "        vertical-align: top;\n",
              "    }\n",
              "\n",
              "    .dataframe thead th {\n",
              "        text-align: right;\n",
              "    }\n",
              "</style>\n",
              "<table border=\"1\" class=\"dataframe\">\n",
              "  <thead>\n",
              "    <tr style=\"text-align: right;\">\n",
              "      <th></th>\n",
              "      <th>Business</th>\n",
              "      <th>all renewable</th>\n",
              "      <th>all natural</th>\n",
              "      <th>50% natural</th>\n",
              "    </tr>\n",
              "    <tr>\n",
              "      <th>year</th>\n",
              "      <th></th>\n",
              "      <th></th>\n",
              "      <th></th>\n",
              "      <th></th>\n",
              "    </tr>\n",
              "  </thead>\n",
              "  <tbody>\n",
              "    <tr>\n",
              "      <th>2021-01-01</th>\n",
              "      <td>1.623527e+09</td>\n",
              "      <td>1.623527e+09</td>\n",
              "      <td>1.623527e+09</td>\n",
              "      <td>1.623527e+09</td>\n",
              "    </tr>\n",
              "    <tr>\n",
              "      <th>2025-01-01</th>\n",
              "      <td>1.450208e+09</td>\n",
              "      <td>8.701248e+08</td>\n",
              "      <td>1.197998e+09</td>\n",
              "      <td>1.435797e+09</td>\n",
              "    </tr>\n",
              "  </tbody>\n",
              "</table>\n",
              "</div>"
            ],
            "text/plain": [
              "                Business  all renewable   all natural   50% natural\n",
              "year                                                               \n",
              "2021-01-01  1.623527e+09   1.623527e+09  1.623527e+09  1.623527e+09\n",
              "2025-01-01  1.450208e+09   8.701248e+08  1.197998e+09  1.435797e+09"
            ]
          },
          "metadata": {},
          "execution_count": 68
        }
      ]
    },
    {
      "cell_type": "code",
      "source": [
        "plt.figure(figsize=(20,10))\n",
        "# fig,ax = plt.subplots(figsize=(20,10))\n",
        "# ax2=ax.twinx()\n",
        "plt.plot(emissions_month_level_CO2_yrly_sum.index, emissions_month_level_CO2_yrly_sum['CO2 (short tons)'],label = 'Historical CO2 Emissions',lw=4)\n",
        "plt.plot(prediction_CO2_yrly_sum.index, prediction_CO2_yrly_sum['predicted_emissions'],label = 'Predicted CO2 emissions',color = 'darkred',ls = '--',lw=4)\n",
        "\n",
        "# for gross load\n",
        "# ax2.plot(emissions_month_level_load_yrly_sum.index, emissions_month_level_load_yrly_sum['Gross Load (MW-h)'],label = 'Historical Gross Load production',color = 'rosybrown')\n",
        "# ax2.plot(prediction_load_yrly_sum.index, prediction_load_yrly_sum['predicted_load'],label = 'Predicted Gross Load production')\n",
        "\n",
        "# # For complete renewable transfer\n",
        "# plt.plot(prediction_CO2_2025_scenario.index, prediction_CO2_2025_scenario['all renewable'],label = 'Predicted CO2 emissions if coal replaced by renewable',color = '#32CD32',ls = '-.',lw=4)\n",
        "\n",
        "# # For complete transfer to natural\n",
        "\n",
        "# plt.plot(prediction_CO2_2025_scenario.index, prediction_CO2_2025_scenario['all natural'],label = 'Predicted CO2 emissions if coal replaced by NG',color = '#666699',ls = '-.',lw=4)\n",
        "\n",
        "# for partial transfer to natural\n",
        "\n",
        "# plt.plot(prediction_CO2_2025_scenario.index, prediction_CO2_2025_scenario['50% natural'],label = 'Predicted CO2 emissions if 50% coal replaced by NG',color = '#9c9cb0',ls = '-.',lw=4)\n",
        "\n",
        "\n",
        "plt.xlabel(\"Time (in Years)\",fontsize=14)\n",
        "plt.ylabel(\"CO2 emissions (short tons)\",fontsize=14)\n",
        "# ax2.set_ylabel(\"Gross Load (MW-h)\",fontsize=14)\n",
        "\n",
        "\n",
        "plt.legend(loc = 'center left',fontsize=14)\n",
        "# ax.legend(bbox_to_anchor=(1,1))\n",
        "# ax2.legend(fontsize=10)\n",
        "\n",
        "plt.axvline(pd.to_datetime('2021-01-01'),color='white', linestyle='--', lw=2)\n",
        "text(pd.to_datetime('2021-01-01'),2000000000,s = \"current status\", rotation=90, verticalalignment='top',horizontalalignment = 'right',fontsize=14)\n",
        "plt.axvline(pd.to_datetime('2025-01-01'))\n",
        "text(pd.to_datetime('2025-01-01'),2000000000,s = \"2025 status\", rotation=90, verticalalignment='top',horizontalalignment = 'right',fontsize=14)\n",
        "plt.axhline(1228130000,color='blue',linestyle='--', lw=2)\n",
        "text(pd.to_datetime('2012-01-01'),1230000000,s = \"50% CO2 emissions from 2005 levels\", rotation=0, verticalalignment='bottom',fontsize=14)\n",
        "\n",
        "plt.show()\n",
        "plt.savefig('emission_prediction.png')\n"
      ],
      "metadata": {
        "colab": {
          "base_uri": "https://localhost:8080/",
          "height": 637
        },
        "id": "PlRBCg_TB4qb",
        "outputId": "6716cdff-1114-4dfb-b71b-70e81852fcad"
      },
      "execution_count": null,
      "outputs": [
        {
          "output_type": "display_data",
          "data": {
            "image/png": "[encoded data removed]",
            "text/plain": [
              "<Figure size 1440x720 with 1 Axes>"
            ]
          },
          "metadata": {}
        },
        {
          "output_type": "display_data",
          "data": {
            "text/plain": [
              "<Figure size 432x288 with 0 Axes>"
            ]
          },
          "metadata": {}
        }
      ]
    },
    {
      "cell_type": "code",
      "source": [
        ""
      ],
      "metadata": {
        "id": "reIK2ZeITHCc"
      },
      "execution_count": null,
      "outputs": []
    }
  ]
}